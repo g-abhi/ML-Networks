{
  "nbformat": 4,
  "nbformat_minor": 0,
  "metadata": {
    "colab": {
      "name": "01-pytorch-basics.ipynb",
      "provenance": [],
      "collapsed_sections": []
    },
    "kernelspec": {
      "name": "python3",
      "display_name": "Python 3"
    }
  },
  "cells": [
    {
      "cell_type": "markdown",
      "metadata": {
        "id": "oBEUV3FbIUeI"
      },
      "source": [
        "# **PyTorch Basics: Tensors & Gradients**\r\n",
        "*   Introductions to PyTorch tensors\r\n",
        "*   Tensor operations and gradients\r\n",
        "*   Interoperability between PyTorch and Numpy\r\n",
        "*   How to use the PyTorch documentation site\r\n",
        "\r\n",
        "\r\n"
      ]
    },
    {
      "cell_type": "code",
      "metadata": {
        "id": "MTGzw1348zbR"
      },
      "source": [
        "# Uncomment and run the appropriate command for your operating system, if required\r\n",
        "\r\n",
        "# Linux / Binder\r\n",
        "# !pip install numpy torch==1.7.0+cpu torchvision==0.8.1+cpu torchaudio==0.7.0 -f https://download.pytorch.org/whl/torch_stable.html\r\n",
        "\r\n",
        "# Windows\r\n",
        "# !pip install numpy torch==1.7.0+cpu torchvision==0.8.1+cpu torchaudio==0.7.0 -f https://download.pytorch.org/whl/torch_stable.html\r\n",
        "\r\n",
        "# MacOS\r\n",
        "# !pip install numpy torch torchvision torchaudio"
      ],
      "execution_count": null,
      "outputs": []
    },
    {
      "cell_type": "markdown",
      "metadata": {
        "id": "6inKp9xo9I2U"
      },
      "source": [
        "Let's import the `torch` module to get started."
      ]
    },
    {
      "cell_type": "code",
      "metadata": {
        "id": "wRkplFA581Vk"
      },
      "source": [
        "import torch"
      ],
      "execution_count": null,
      "outputs": []
    },
    {
      "cell_type": "markdown",
      "metadata": {
        "id": "25PQc3d79Jqu"
      },
      "source": [
        "# **Tensors**\r\n",
        "At its core, PyTorch is a library for processing tensors. A tensor is a number, vector, matrix, or any n-dimensional array. *(A matrix can be a tensor, but a tensor is not necessarily a matrix.)* Let's create a tensor with a single number."
      ]
    },
    {
      "cell_type": "code",
      "metadata": {
        "colab": {
          "base_uri": "https://localhost:8080/"
        },
        "id": "OGO_AqdJ9C0i",
        "outputId": "b7331128-1569-41b5-c977-157b3cfe5567"
      },
      "source": [
        "# Number\r\n",
        "t1 = torch.tensor(4.)\r\n",
        "t1"
      ],
      "execution_count": null,
      "outputs": [
        {
          "output_type": "execute_result",
          "data": {
            "text/plain": [
              "tensor(4.)"
            ]
          },
          "metadata": {
            "tags": []
          },
          "execution_count": 4
        }
      ]
    },
    {
      "cell_type": "markdown",
      "metadata": {
        "id": "XRI4cjN19kZD"
      },
      "source": [
        "`4.` is a shorthand for `4.0.` It is used to indicate to Python (and PyTorch) that you want to create a floating-point number. We can verify this by checking the `dtype` attribute of our tensor."
      ]
    },
    {
      "cell_type": "code",
      "metadata": {
        "colab": {
          "base_uri": "https://localhost:8080/"
        },
        "id": "5eI2beGx95Ap",
        "outputId": "14668317-eb6e-48ee-f985-40d7abf81a97"
      },
      "source": [
        "t1.dtype"
      ],
      "execution_count": null,
      "outputs": [
        {
          "output_type": "execute_result",
          "data": {
            "text/plain": [
              "torch.float32"
            ]
          },
          "metadata": {
            "tags": []
          },
          "execution_count": 5
        }
      ]
    },
    {
      "cell_type": "markdown",
      "metadata": {
        "id": "nAElmfIZ97aH"
      },
      "source": [
        "Let's try creating more complex tensors."
      ]
    },
    {
      "cell_type": "code",
      "metadata": {
        "colab": {
          "base_uri": "https://localhost:8080/"
        },
        "id": "xRKiJbnj-CrD",
        "outputId": "0d107e18-bf7e-4243-9782-2b05510cf2ed"
      },
      "source": [
        "# Vector\r\n",
        "t2 = torch.tensor([1., 2, 3, 4])\r\n",
        "t2"
      ],
      "execution_count": null,
      "outputs": [
        {
          "output_type": "execute_result",
          "data": {
            "text/plain": [
              "tensor([1., 2., 3., 4.])"
            ]
          },
          "metadata": {
            "tags": []
          },
          "execution_count": 6
        }
      ]
    },
    {
      "cell_type": "code",
      "metadata": {
        "colab": {
          "base_uri": "https://localhost:8080/"
        },
        "id": "Kw6zDR6D-Plu",
        "outputId": "d1eff5b2-4a27-4d21-8dd5-8b1e76afe431"
      },
      "source": [
        "# Matrix\r\n",
        "t3 = torch.tensor([[5., 6], \r\n",
        "                   [7, 8], \r\n",
        "                   [9, 10]])\r\n",
        "t3"
      ],
      "execution_count": null,
      "outputs": [
        {
          "output_type": "execute_result",
          "data": {
            "text/plain": [
              "tensor([[ 5.,  6.],\n",
              "        [ 7.,  8.],\n",
              "        [ 9., 10.]])"
            ]
          },
          "metadata": {
            "tags": []
          },
          "execution_count": 7
        }
      ]
    },
    {
      "cell_type": "code",
      "metadata": {
        "colab": {
          "base_uri": "https://localhost:8080/"
        },
        "id": "OC6YF4Oq-WYb",
        "outputId": "f5f4f187-9db9-40fa-a315-855d65b7f366"
      },
      "source": [
        "# 3-dimensional array\r\n",
        "t4 = torch.tensor([\r\n",
        "    [[11, 12, 13], \r\n",
        "     [13, 14, 15]], \r\n",
        "    [[15, 16, 17], \r\n",
        "     [17, 18, 19.]]])\r\n",
        "t4"
      ],
      "execution_count": null,
      "outputs": [
        {
          "output_type": "execute_result",
          "data": {
            "text/plain": [
              "tensor([[[11., 12., 13.],\n",
              "         [13., 14., 15.]],\n",
              "\n",
              "        [[15., 16., 17.],\n",
              "         [17., 18., 19.]]])"
            ]
          },
          "metadata": {
            "tags": []
          },
          "execution_count": 8
        }
      ]
    },
    {
      "cell_type": "markdown",
      "metadata": {
        "id": "FhYj40xY-XuO"
      },
      "source": [
        "Tensors can have any number of dimensions and different lengths along each dimension. We can inspect the length along each dimension using the `.shape` property of a tensor."
      ]
    },
    {
      "cell_type": "code",
      "metadata": {
        "colab": {
          "base_uri": "https://localhost:8080/"
        },
        "id": "oicZ-8uE-izH",
        "outputId": "1a0055ad-a856-472a-ad37-14ad809eacef"
      },
      "source": [
        "# t1 is a scalar and is dimensionless\r\n",
        "print(t1)\r\n",
        "t1.shape"
      ],
      "execution_count": null,
      "outputs": [
        {
          "output_type": "stream",
          "text": [
            "tensor(4.)\n"
          ],
          "name": "stdout"
        },
        {
          "output_type": "execute_result",
          "data": {
            "text/plain": [
              "torch.Size([])"
            ]
          },
          "metadata": {
            "tags": []
          },
          "execution_count": 9
        }
      ]
    },
    {
      "cell_type": "code",
      "metadata": {
        "colab": {
          "base_uri": "https://localhost:8080/"
        },
        "id": "lTqDFKf1-sQp",
        "outputId": "0bde632b-e9ca-4ebb-f31d-5eb994afde9b"
      },
      "source": [
        "# [4] represents number of elements (4) in outermost array\r\n",
        "print(t2)\r\n",
        "t2.shape"
      ],
      "execution_count": null,
      "outputs": [
        {
          "output_type": "stream",
          "text": [
            "tensor([1., 2., 3., 4.])\n"
          ],
          "name": "stdout"
        },
        {
          "output_type": "execute_result",
          "data": {
            "text/plain": [
              "torch.Size([4])"
            ]
          },
          "metadata": {
            "tags": []
          },
          "execution_count": 10
        }
      ]
    },
    {
      "cell_type": "code",
      "metadata": {
        "colab": {
          "base_uri": "https://localhost:8080/"
        },
        "id": "ufRDpMFV-uSj",
        "outputId": "d12b09d6-98ec-4f66-8fe4-428b4134f6ed"
      },
      "source": [
        "# [3, 2] represents number of elements (3) in outermost array followed by number of elements (2) in an inner array\r\n",
        "print(t3)\r\n",
        "t3.shape"
      ],
      "execution_count": null,
      "outputs": [
        {
          "output_type": "stream",
          "text": [
            "tensor([[ 5.,  6.],\n",
            "        [ 7.,  8.],\n",
            "        [ 9., 10.]])\n"
          ],
          "name": "stdout"
        },
        {
          "output_type": "execute_result",
          "data": {
            "text/plain": [
              "torch.Size([3, 2])"
            ]
          },
          "metadata": {
            "tags": []
          },
          "execution_count": 11
        }
      ]
    },
    {
      "cell_type": "code",
      "metadata": {
        "colab": {
          "base_uri": "https://localhost:8080/"
        },
        "id": "fm_qIwtR_C0g",
        "outputId": "c1e10938-325f-4bcc-b44f-a360db6ef48c"
      },
      "source": [
        "'''\r\n",
        "[2, 2, 3] represents\r\n",
        "len outermost arr = 2\r\n",
        "len next inner arr = 2\r\n",
        "len innermost arr = 3\r\n",
        "'''\r\n",
        "print(t4)\r\n",
        "t4.shape"
      ],
      "execution_count": null,
      "outputs": [
        {
          "output_type": "stream",
          "text": [
            "tensor([[[11., 12., 13.],\n",
            "         [13., 14., 15.]],\n",
            "\n",
            "        [[15., 16., 17.],\n",
            "         [17., 18., 19.]]])\n"
          ],
          "name": "stdout"
        },
        {
          "output_type": "execute_result",
          "data": {
            "text/plain": [
              "torch.Size([2, 2, 3])"
            ]
          },
          "metadata": {
            "tags": []
          },
          "execution_count": 12
        }
      ]
    },
    {
      "cell_type": "markdown",
      "metadata": {
        "id": "xIZDmygH_FKv"
      },
      "source": [
        "Note that it's not possible to create tensors with an improper shape.\r\n",
        "\r\n"
      ]
    },
    {
      "cell_type": "code",
      "metadata": {
        "colab": {
          "base_uri": "https://localhost:8080/",
          "height": 220
        },
        "id": "2UPkBRgz_HL9",
        "outputId": "0ebd26a1-6448-4e09-ace9-b82959f40a31"
      },
      "source": [
        "# Matrix\r\n",
        "t5 = torch.tensor([[5., 6, 11], \r\n",
        "                   [7, 8], \r\n",
        "                   [9, 10]])\r\n",
        "t5"
      ],
      "execution_count": null,
      "outputs": [
        {
          "output_type": "error",
          "ename": "ValueError",
          "evalue": "ignored",
          "traceback": [
            "\u001b[0;31m---------------------------------------------------------------------------\u001b[0m",
            "\u001b[0;31mValueError\u001b[0m                                Traceback (most recent call last)",
            "\u001b[0;32m<ipython-input-13-83912cf67c5e>\u001b[0m in \u001b[0;36m<module>\u001b[0;34m()\u001b[0m\n\u001b[1;32m      2\u001b[0m t5 = torch.tensor([[5., 6, 11], \n\u001b[1;32m      3\u001b[0m                    \u001b[0;34m[\u001b[0m\u001b[0;36m7\u001b[0m\u001b[0;34m,\u001b[0m \u001b[0;36m8\u001b[0m\u001b[0;34m]\u001b[0m\u001b[0;34m,\u001b[0m\u001b[0;34m\u001b[0m\u001b[0;34m\u001b[0m\u001b[0m\n\u001b[0;32m----> 4\u001b[0;31m                    [9, 10]])\n\u001b[0m\u001b[1;32m      5\u001b[0m \u001b[0mt5\u001b[0m\u001b[0;34m\u001b[0m\u001b[0;34m\u001b[0m\u001b[0m\n",
            "\u001b[0;31mValueError\u001b[0m: expected sequence of length 3 at dim 1 (got 2)"
          ]
        }
      ]
    },
    {
      "cell_type": "markdown",
      "metadata": {
        "id": "ntbzyBbG_QXr"
      },
      "source": [
        "A `ValueError` is thrown because the lengths of the rows `[5., 6, 11]` and `[7, 8]` don't match."
      ]
    },
    {
      "cell_type": "markdown",
      "metadata": {
        "id": "4QItQx1k_Wvh"
      },
      "source": [
        "# **Tensor operations and gradients**\r\n",
        "We can combine tensors with the usual arithmetic operations. Let's look at an example:"
      ]
    },
    {
      "cell_type": "code",
      "metadata": {
        "colab": {
          "base_uri": "https://localhost:8080/"
        },
        "id": "IIUbBR21_bqx",
        "outputId": "c3f1f909-c9a9-4365-cf89-0789b5eefbb8"
      },
      "source": [
        "# Create tensors.\r\n",
        "x = torch.tensor(3.)\r\n",
        "w = torch.tensor(4., requires_grad=True)\r\n",
        "b = torch.tensor(5., requires_grad=True)\r\n",
        "x, w, b"
      ],
      "execution_count": null,
      "outputs": [
        {
          "output_type": "execute_result",
          "data": {
            "text/plain": [
              "(tensor(3.), tensor(4., requires_grad=True), tensor(5., requires_grad=True))"
            ]
          },
          "metadata": {
            "tags": []
          },
          "execution_count": 14
        }
      ]
    },
    {
      "cell_type": "markdown",
      "metadata": {
        "id": "euVkm5g9Bb-E"
      },
      "source": [
        "We've created three tensors: `x`, `w`, and `b`, all numbers. `w` and `b` have an additional parameter `requires_grad` set to `True`. We'll see what it does in just a moment.\r\n",
        "\r\n",
        "Let's create a new tensor `y` by combining these tensors."
      ]
    },
    {
      "cell_type": "code",
      "metadata": {
        "colab": {
          "base_uri": "https://localhost:8080/"
        },
        "id": "u7YtkNI_Blx6",
        "outputId": "45cc27e0-6d35-4d2e-a4ed-5f45aa64932a"
      },
      "source": [
        "# Arithmetic operations\r\n",
        "y = w * x + b\r\n",
        "y"
      ],
      "execution_count": null,
      "outputs": [
        {
          "output_type": "execute_result",
          "data": {
            "text/plain": [
              "tensor(17., grad_fn=<AddBackward0>)"
            ]
          },
          "metadata": {
            "tags": []
          },
          "execution_count": 15
        }
      ]
    },
    {
      "cell_type": "markdown",
      "metadata": {
        "id": "Efrbz3HyCoXe"
      },
      "source": [
        "As expected, `y` is a tensor with the value `3 * 4 + 5 = 17`. What makes PyTorch unique is that we can automatically compute the derivative of `y` w.r.t. the tensors that have `requires_grad` set to `True` i.e. w and b. This feature of PyTorch is called *autograd* (automatic gradients).\r\n",
        "\r\n",
        "To compute the derivatives, we can invoke the `.backward` method on our result `y`."
      ]
    },
    {
      "cell_type": "code",
      "metadata": {
        "id": "ZIMYs1RaC0XC"
      },
      "source": [
        "# Compute derivatives\r\n",
        "y.backward()"
      ],
      "execution_count": null,
      "outputs": []
    },
    {
      "cell_type": "markdown",
      "metadata": {
        "id": "L8YQdcQqC53F"
      },
      "source": [
        "The derivatives of `y` with respect to the input tensors are stored in the `.grad` property of the respective tensors."
      ]
    },
    {
      "cell_type": "code",
      "metadata": {
        "colab": {
          "base_uri": "https://localhost:8080/"
        },
        "id": "WNwQr5RaC-TX",
        "outputId": "c23a4383-6f7b-4729-db6b-d87f7be28585"
      },
      "source": [
        "# Display gradients\r\n",
        "print('dy/dx:', x.grad)\r\n",
        "print('dy/dw:', w.grad)\r\n",
        "print('dy/db:', b.grad)"
      ],
      "execution_count": null,
      "outputs": [
        {
          "output_type": "stream",
          "text": [
            "dy/dx: None\n",
            "dy/dw: tensor(3.)\n",
            "dy/db: tensor(1.)\n"
          ],
          "name": "stdout"
        }
      ]
    },
    {
      "cell_type": "markdown",
      "metadata": {
        "id": "VFkpgWatDHlb"
      },
      "source": [
        "As expected, `dy/dw` has the same value as `x`, i.e., `3`, and `dy/db` has the value `1`. Note that `x.grad` is `None` because `x` doesn't have `requires_grad` set to `True`.\r\n",
        "\r\n",
        "The \"grad\" in `w.grad` is short for *gradient*, which is another term for derivative. The term *gradient* is primarily used while dealing with vectors and matrices."
      ]
    },
    {
      "cell_type": "markdown",
      "metadata": {
        "id": "SfCCev57DW2f"
      },
      "source": [
        "# **Tensor functions**\r\n",
        "Apart from arithmetic operations, the `torch` module also contains many functions for creating and manipulating tensors. Let's look at some examples."
      ]
    },
    {
      "cell_type": "code",
      "metadata": {
        "colab": {
          "base_uri": "https://localhost:8080/"
        },
        "id": "w4mUr-PpDdQB",
        "outputId": "bd2bf335-9035-4339-94f1-25df25e7944b"
      },
      "source": [
        "# Create a tensor with a fixed value for every element\r\n",
        "t6 = torch.full((3, 2), 42.)\r\n",
        "t6"
      ],
      "execution_count": null,
      "outputs": [
        {
          "output_type": "execute_result",
          "data": {
            "text/plain": [
              "tensor([[42., 42.],\n",
              "        [42., 42.],\n",
              "        [42., 42.]])"
            ]
          },
          "metadata": {
            "tags": []
          },
          "execution_count": 22
        }
      ]
    },
    {
      "cell_type": "code",
      "metadata": {
        "colab": {
          "base_uri": "https://localhost:8080/"
        },
        "id": "5u7yfdv1Dond",
        "outputId": "44817b1a-6a36-4801-f8a8-2af17c1b5ac0"
      },
      "source": [
        "# Concatenate two tensors with compatible shapes\r\n",
        "t7 = torch.cat((t3, t6))\r\n",
        "t7"
      ],
      "execution_count": null,
      "outputs": [
        {
          "output_type": "execute_result",
          "data": {
            "text/plain": [
              "tensor([[ 5.,  6.],\n",
              "        [ 7.,  8.],\n",
              "        [ 9., 10.],\n",
              "        [42., 42.],\n",
              "        [42., 42.],\n",
              "        [42., 42.]])"
            ]
          },
          "metadata": {
            "tags": []
          },
          "execution_count": 23
        }
      ]
    },
    {
      "cell_type": "code",
      "metadata": {
        "colab": {
          "base_uri": "https://localhost:8080/"
        },
        "id": "V13beKLSDvEk",
        "outputId": "7d2cdde8-ce4c-468b-8c63-0f7168237064"
      },
      "source": [
        "# Compute the sin of each element\r\n",
        "t8 = torch.sin(t7)\r\n",
        "t8"
      ],
      "execution_count": null,
      "outputs": [
        {
          "output_type": "execute_result",
          "data": {
            "text/plain": [
              "tensor([[-0.9589, -0.2794],\n",
              "        [ 0.6570,  0.9894],\n",
              "        [ 0.4121, -0.5440],\n",
              "        [-0.9165, -0.9165],\n",
              "        [-0.9165, -0.9165],\n",
              "        [-0.9165, -0.9165]])"
            ]
          },
          "metadata": {
            "tags": []
          },
          "execution_count": 24
        }
      ]
    },
    {
      "cell_type": "code",
      "metadata": {
        "colab": {
          "base_uri": "https://localhost:8080/"
        },
        "id": "2gTPegItD41R",
        "outputId": "0017ceb7-6d86-459d-c3d4-fd089d1aca4b"
      },
      "source": [
        "# Change the shape of a tensor\r\n",
        "t9 = t8.reshape(3, 2, 2)\r\n",
        "t9"
      ],
      "execution_count": null,
      "outputs": [
        {
          "output_type": "execute_result",
          "data": {
            "text/plain": [
              "tensor([[[-0.9589, -0.2794],\n",
              "         [ 0.6570,  0.9894]],\n",
              "\n",
              "        [[ 0.4121, -0.5440],\n",
              "         [-0.9165, -0.9165]],\n",
              "\n",
              "        [[-0.9165, -0.9165],\n",
              "         [-0.9165, -0.9165]]])"
            ]
          },
          "metadata": {
            "tags": []
          },
          "execution_count": 25
        }
      ]
    },
    {
      "cell_type": "markdown",
      "metadata": {
        "id": "VgGTZnPSD-sT"
      },
      "source": [
        "more information about tensor operations here: https://pytorch.org/docs/stable/torch.html ."
      ]
    },
    {
      "cell_type": "markdown",
      "metadata": {
        "id": "-MCTRDNaEBcz"
      },
      "source": [
        "# **Interoperability with Numpy**\r\n",
        "[Numpy](https://numpy.org/) is a popular open-source library used for mathematical and scientific computing in Python. It enables efficient operations on large multi-dimensional arrays and has a vast ecosystem of supporting libraries, including:\r\n",
        "\r\n",
        "\r\n",
        "\r\n",
        "*   [Pandas](https://pandas.pydata.org/) for file I/O and data analysis\r\n",
        "*   [Matplotlib](https://matplotlib.org/) for plotting and visualization\r\n",
        "*   [OpenCV](https://opencv.org/) for image and video processing\r\n",
        "\r\n",
        "\r\n",
        "Instead of reinventing the wheel, PyTorch interoperates well with Numpy to leverage its existing ecosystem of tools and libraries.\r\n",
        "\r\n",
        "\r\n",
        "\r\n",
        "\r\n"
      ]
    },
    {
      "cell_type": "markdown",
      "metadata": {
        "id": "r3s5FoIiFHxd"
      },
      "source": [
        "Here's how we create an array in Numpy:"
      ]
    },
    {
      "cell_type": "code",
      "metadata": {
        "colab": {
          "base_uri": "https://localhost:8080/"
        },
        "id": "kzdvNwxQFJed",
        "outputId": "78d631e8-de74-477f-d9f1-094ef768a235"
      },
      "source": [
        "import numpy as np\r\n",
        "\r\n",
        "x = np.array([[1, 2], [3, 4.]])\r\n",
        "x"
      ],
      "execution_count": null,
      "outputs": [
        {
          "output_type": "execute_result",
          "data": {
            "text/plain": [
              "array([[1., 2.],\n",
              "       [3., 4.]])"
            ]
          },
          "metadata": {
            "tags": []
          },
          "execution_count": 26
        }
      ]
    },
    {
      "cell_type": "markdown",
      "metadata": {
        "id": "t8v2ChmDFQYQ"
      },
      "source": [
        "We can convert a Numpy array to a PyTorch tensor using `torch.from_numpy`."
      ]
    },
    {
      "cell_type": "code",
      "metadata": {
        "colab": {
          "base_uri": "https://localhost:8080/"
        },
        "id": "CLo5WBEuFUbX",
        "outputId": "b1a2b0e8-61a5-4d04-d718-500108f2e2d5"
      },
      "source": [
        "# Convert the numpy array to a torch tensor.\r\n",
        "y = torch.from_numpy(x)\r\n",
        "y"
      ],
      "execution_count": null,
      "outputs": [
        {
          "output_type": "execute_result",
          "data": {
            "text/plain": [
              "tensor([[1., 2.],\n",
              "        [3., 4.]], dtype=torch.float64)"
            ]
          },
          "metadata": {
            "tags": []
          },
          "execution_count": 27
        }
      ]
    },
    {
      "cell_type": "markdown",
      "metadata": {
        "id": "nGgVhWmGFzsY"
      },
      "source": [
        "Let's verify that the numpy array and torch tensor have similar data types."
      ]
    },
    {
      "cell_type": "code",
      "metadata": {
        "colab": {
          "base_uri": "https://localhost:8080/"
        },
        "id": "gKwU4rfHF00y",
        "outputId": "de213305-9844-42e1-d2d4-cb92dfae3742"
      },
      "source": [
        "x.dtype, y.dtype"
      ],
      "execution_count": null,
      "outputs": [
        {
          "output_type": "execute_result",
          "data": {
            "text/plain": [
              "(dtype('float64'), torch.float64)"
            ]
          },
          "metadata": {
            "tags": []
          },
          "execution_count": 28
        }
      ]
    },
    {
      "cell_type": "markdown",
      "metadata": {
        "id": "7u6mFy6vF7mk"
      },
      "source": [
        "We can convert a PyTorch tensor to a Numpy array using the `.numpy` method of a tensor."
      ]
    },
    {
      "cell_type": "code",
      "metadata": {
        "colab": {
          "base_uri": "https://localhost:8080/"
        },
        "id": "Ui8QAV8kF-jl",
        "outputId": "715e0a29-598c-426d-f4ee-7441ac4c0b51"
      },
      "source": [
        "# Convert a torch tensor to a numpy array\r\n",
        "z = y.numpy()\r\n",
        "z"
      ],
      "execution_count": null,
      "outputs": [
        {
          "output_type": "execute_result",
          "data": {
            "text/plain": [
              "array([[1., 2.],\n",
              "       [3., 4.]])"
            ]
          },
          "metadata": {
            "tags": []
          },
          "execution_count": 29
        }
      ]
    },
    {
      "cell_type": "markdown",
      "metadata": {
        "id": "h8xKwDEoGdah"
      },
      "source": [
        "The interoperability between PyTorch and Numpy is essential because most datasets you'll work with will likely be read and preprocessed as Numpy arrays.\r\n",
        "\r\n",
        "You might wonder why we need a library like PyTorch at all since Numpy already provides data structures and utilities for working with multi-dimensional numeric data. There are two main reasons:\r\n",
        "\r\n",
        " \r\n",
        "\r\n",
        "1.   **Autograd**: The ability to automatically compute gradients for tensor operations is essential for training deep learning models.\r\n",
        "2.   **GPU support**: While working with massive datasets and large models, PyTorch tensor operations can be performed efficiently using a Graphics Processing Unit (GPU). Computations that might typically take hours can be completed within minutes using GPUs."
      ]
    }
  ]
}