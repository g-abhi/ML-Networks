{
  "nbformat": 4,
  "nbformat_minor": 0,
  "metadata": {
    "colab": {
      "name": "04-feedforward-neuralnetwork.ipynb",
      "provenance": [],
      "collapsed_sections": [],
      "toc_visible": true
    },
    "kernelspec": {
      "name": "python3",
      "display_name": "Python 3"
    },
    "accelerator": "GPU"
  },
  "cells": [
    {
      "cell_type": "markdown",
      "metadata": {
        "id": "eGbFjlHBlx7H"
      },
      "source": [
        "# **Training Deep Neural Networks on a GPU with PyTorch**\r\n",
        "\r\n",
        "* Creating a deep neural network with hidden layers\r\n",
        "* Using a non-linear activation function\r\n",
        "* Using a GPU (when available) to speed up training\r\n",
        "* Experimenting with hyperparameters to improve the model"
      ]
    },
    {
      "cell_type": "markdown",
      "metadata": {
        "id": "7imoYyW7nFgu"
      },
      "source": [
        "Preparing the Data\r\n",
        "\r\n",
        "It's quite challenging to improve the accuracy of a logistic regression model since the model assumes a linear relationship between pixel intensities and image labels. We'll try to improve upon it using a feed-forward neural network which can capture non-linear relationships between inputs and targets.\r\n",
        "\r\n",
        "Let's begin by installing and importing the required modules and classes from `torch`, `torchvision`, `numpy`, and `matplotlib`."
      ]
    },
    {
      "cell_type": "code",
      "metadata": {
        "id": "9y1bOyL8nWM1"
      },
      "source": [
        "# Uncomment and run the appropriate command for your operating system, if required\r\n",
        "\r\n",
        "# Linux / Binder\r\n",
        "# !pip install numpy matplotlib torch==1.7.0+cpu torchvision==0.8.1+cpu torchaudio==0.7.0 -f https://download.pytorch.org/whl/torch_stable.html\r\n",
        "\r\n",
        "# Windows\r\n",
        "# !pip install numpy matplotlib torch==1.7.0+cpu torchvision==0.8.1+cpu torchaudio==0.7.0 -f https://download.pytorch.org/whl/torch_stable.html\r\n",
        "\r\n",
        "# MacOS\r\n",
        "# !pip install numpy matplotlib torch torchvision torchaudio"
      ],
      "execution_count": null,
      "outputs": []
    },
    {
      "cell_type": "code",
      "metadata": {
        "id": "VPEDLbZVnZea"
      },
      "source": [
        "import torch\r\n",
        "import torchvision\r\n",
        "import numpy as np\r\n",
        "import matplotlib\r\n",
        "import matplotlib.pyplot as plt\r\n",
        "import torch.nn as nn\r\n",
        "import torch.nn.functional as F\r\n",
        "from torchvision.datasets import MNIST\r\n",
        "from torchvision.transforms import ToTensor\r\n",
        "from torchvision.utils import make_grid\r\n",
        "from torch.utils.data.dataloader import DataLoader\r\n",
        "from torch.utils.data import random_split\r\n",
        "%matplotlib inline\r\n",
        "\r\n",
        "# Use a white background for matplotlib figures\r\n",
        "matplotlib.rcParams['figure.facecolor'] = '#ffffff'"
      ],
      "execution_count": null,
      "outputs": []
    },
    {
      "cell_type": "markdown",
      "metadata": {
        "id": "BC_S-rIJnfUE"
      },
      "source": [
        "We can download the data and create a PyTorch dataset using the `MNIST` class from `torchvision.datasets`."
      ]
    },
    {
      "cell_type": "code",
      "metadata": {
        "id": "cgrEwLhnneKd"
      },
      "source": [
        "dataset = MNIST(root='/tmp', download=True, transform=ToTensor())"
      ],
      "execution_count": null,
      "outputs": []
    },
    {
      "cell_type": "markdown",
      "metadata": {
        "id": "WbOAivAOn0nF"
      },
      "source": [
        "Let's look at a couple of images from the dataset. The images are converted with `transform=ToTensor()` to PyTorch tensors with the shape `1x28x28` (the dimensions represent color channels, width and height). Thus, we must apply `squeeze(0)` to remove the channel dimension from the tensor and feed a 2D array to `plt.imshow` to display the images."
      ]
    },
    {
      "cell_type": "code",
      "metadata": {
        "colab": {
          "base_uri": "https://localhost:8080/",
          "height": 300
        },
        "id": "MbjrslCHn72N",
        "outputId": "49be991d-52fe-481c-8440-fa9b903b6443"
      },
      "source": [
        "image, label = dataset[0]\r\n",
        "print('image.shape:', image.shape)\r\n",
        "plt.imshow(image.squeeze(0), cmap='gray')\r\n",
        "print('Label:', label)"
      ],
      "execution_count": null,
      "outputs": [
        {
          "output_type": "stream",
          "text": [
            "image.shape: torch.Size([1, 28, 28])\n",
            "Label: 5\n"
          ],
          "name": "stdout"
        },
        {
          "output_type": "display_data",
          "data": {
            "image/png": "[encoded data removed]",
            "text/plain": [
              "<Figure size 432x288 with 1 Axes>"
            ]
          },
          "metadata": {
            "tags": []
          }
        }
      ]
    },
    {
      "cell_type": "code",
      "metadata": {
        "colab": {
          "base_uri": "https://localhost:8080/",
          "height": 300
        },
        "id": "N-6atgXoq5BG",
        "outputId": "a3acf5d0-3f11-4049-f567-ffa0c175a411"
      },
      "source": [
        "image, label = dataset[10011]\r\n",
        "print('image.shape:', image.shape)\r\n",
        "plt.imshow(image.squeeze(0), cmap='gray')\r\n",
        "print('Label:', label)"
      ],
      "execution_count": null,
      "outputs": [
        {
          "output_type": "stream",
          "text": [
            "image.shape: torch.Size([1, 28, 28])\n",
            "Label: 3\n"
          ],
          "name": "stdout"
        },
        {
          "output_type": "display_data",
          "data": {
            "image/png": "[encoded data removed]",
            "text/plain": [
              "<Figure size 432x288 with 1 Axes>"
            ]
          },
          "metadata": {
            "tags": []
          }
        }
      ]
    },
    {
      "cell_type": "markdown",
      "metadata": {
        "id": "kB5-vgnhrCV3"
      },
      "source": [
        "Next, let's use the `random_split` helper function to set aside 10000 images for our validation set."
      ]
    },
    {
      "cell_type": "code",
      "metadata": {
        "colab": {
          "base_uri": "https://localhost:8080/"
        },
        "id": "vKhcfl1prFW6",
        "outputId": "8a2f8ad2-ef82-454c-f22f-f9695a7596db"
      },
      "source": [
        "val_size = 10000\r\n",
        "train_size = len(dataset) - val_size\r\n",
        "\r\n",
        "train_ds, val_ds = random_split(dataset, [train_size, val_size])\r\n",
        "len(train_ds), len(val_ds)"
      ],
      "execution_count": null,
      "outputs": [
        {
          "output_type": "execute_result",
          "data": {
            "text/plain": [
              "(50000, 10000)"
            ]
          },
          "metadata": {
            "tags": []
          },
          "execution_count": 7
        }
      ]
    },
    {
      "cell_type": "markdown",
      "metadata": {
        "id": "He8zVLSCrMDV"
      },
      "source": [
        "We can now create PyTorch data loaders for training and validation."
      ]
    },
    {
      "cell_type": "code",
      "metadata": {
        "id": "5IMrPh2lrLFr"
      },
      "source": [
        "batch_size=128"
      ],
      "execution_count": null,
      "outputs": []
    },
    {
      "cell_type": "code",
      "metadata": {
        "id": "HscsejN5rPcR"
      },
      "source": [
        "train_loader = DataLoader(train_ds, batch_size, shuffle=True, num_workers=4, pin_memory=True)\r\n",
        "val_loader = DataLoader(val_ds, batch_size*2, num_workers=4, pin_memory=True)"
      ],
      "execution_count": null,
      "outputs": []
    },
    {
      "cell_type": "markdown",
      "metadata": {
        "id": "ikpCgxXGrdED"
      },
      "source": [
        "https://pytorch.org/docs/stable/data.html#single-and-multi-process-data-loading\r\n",
        "\r\n",
        "`num_workers`\r\n",
        "* To avoid blocking computation code with data loading, PyTorch provides an easy switch to perform multi-process data loading by simply setting the argument num_workers to a positive integer.\r\n",
        "* Setting the argument num_workers as a positive integer will turn on multi-process data loading with the specified number of loader worker processes.\r\n",
        "\r\n",
        "https://pytorch.org/docs/stable/data.html#memory-pinning\r\n",
        "\r\n",
        "`pin_memory`\r\n",
        "* Host to GPU copies are much faster when they originate from pinned (page-locked) memory. See Use pinned memory buffers for more details on when and how to use pinned memory generally.\r\n",
        "\r\n",
        "* For data loading, passing pin_memory=True to a DataLoader will automatically put the fetched data Tensors in pinned memory, and thus enables faster data transfer to CUDA-enabled GPUs."
      ]
    },
    {
      "cell_type": "markdown",
      "metadata": {
        "id": "6Zk9cAhJsjGs"
      },
      "source": [
        "Let's visualize a batch of data in a grid using the `make_grid` function from `torchvision`. We'll also use the `.permute` method on the tensor to move the channels to the last dimension, as expected by `matplotlib`."
      ]
    },
    {
      "cell_type": "code",
      "metadata": {
        "colab": {
          "base_uri": "https://localhost:8080/",
          "height": 483
        },
        "id": "r2gVgvKpsfs8",
        "outputId": "5dd17433-21a8-4f73-b052-369c7dd80365"
      },
      "source": [
        "for images, _ in train_loader:\r\n",
        "    print('images.shape:', images.shape)\r\n",
        "    plt.figure(figsize=(16,8))\r\n",
        "    plt.axis('off')\r\n",
        "    plt.imshow(make_grid(images, nrow=16).permute((1, 2, 0)))\r\n",
        "    break"
      ],
      "execution_count": null,
      "outputs": [
        {
          "output_type": "stream",
          "text": [
            "images.shape: torch.Size([128, 1, 28, 28])\n"
          ],
          "name": "stdout"
        },
        {
          "output_type": "display_data",
          "data": {
            "image/png": "[encoded data removed]",
            "text/plain": [
              "<Figure size 1152x576 with 1 Axes>"
            ]
          },
          "metadata": {
            "tags": []
          }
        }
      ]
    },
    {
      "cell_type": "markdown",
      "metadata": {
        "id": "ibgAvvsOtGua"
      },
      "source": [
        "# **Hidden Layers, Activation Functions and Non-Linearity**\r\n",
        "\r\n",
        "We'll create a neural network with two layers: a *hidden layer* and an *output layer*. Additionally, we'll use an *activation function* between the two layers. Let's look at a step-by-step example to learn how hidden layers and activation functions can help capture non-linear relationships between inputs and outputs.\r\n",
        "\r\n",
        "First, let's create a batch of inputs tensors. We'll flatten the `1x28x28` images into vectors of size `784`, so they can be passed into an `nn.Linear` object."
      ]
    },
    {
      "cell_type": "code",
      "metadata": {
        "colab": {
          "base_uri": "https://localhost:8080/"
        },
        "id": "7mKArZKDtaYM",
        "outputId": "15e4bba1-c47c-4df6-8726-1ec05bd93716"
      },
      "source": [
        "for images, labels in train_loader:\r\n",
        "    print('images.shape:', images.shape)\r\n",
        "    inputs = images.reshape(-1, 784)\r\n",
        "    print('inputs.shape:', inputs.shape)\r\n",
        "    break"
      ],
      "execution_count": null,
      "outputs": [
        {
          "output_type": "stream",
          "text": [
            "images.shape: torch.Size([128, 1, 28, 28])\n",
            "inputs.shape: torch.Size([128, 784])\n"
          ],
          "name": "stdout"
        }
      ]
    },
    {
      "cell_type": "markdown",
      "metadata": {
        "id": "1lqCJT2ftkVH"
      },
      "source": [
        "Next, let's create a `nn.Linear` object, which will serve as our *hidden* layer. We'll set the size of the output from the hidden layer to 32. This number can be increased or decreased to change the *learning capacity* of the model."
      ]
    },
    {
      "cell_type": "code",
      "metadata": {
        "id": "-F5mqsZ3trw_"
      },
      "source": [
        "input_size = inputs.shape[-1]\r\n",
        "hidden_size = 32"
      ],
      "execution_count": null,
      "outputs": []
    },
    {
      "cell_type": "code",
      "metadata": {
        "id": "lpGwtg-gtvLY"
      },
      "source": [
        "layer1 = nn.Linear(input_size, hidden_size)"
      ],
      "execution_count": null,
      "outputs": []
    },
    {
      "cell_type": "markdown",
      "metadata": {
        "id": "B1Rj1NRvtxtV"
      },
      "source": [
        "We can now compute intermediate outputs for the batch of images by passing `inputs` through `layer1`."
      ]
    },
    {
      "cell_type": "code",
      "metadata": {
        "colab": {
          "base_uri": "https://localhost:8080/"
        },
        "id": "SF0uRFdRt1Ul",
        "outputId": "cd850923-f297-4d00-c828-1df56f825d2a"
      },
      "source": [
        "inputs.shape"
      ],
      "execution_count": null,
      "outputs": [
        {
          "output_type": "execute_result",
          "data": {
            "text/plain": [
              "torch.Size([128, 784])"
            ]
          },
          "metadata": {
            "tags": []
          },
          "execution_count": 14
        }
      ]
    },
    {
      "cell_type": "code",
      "metadata": {
        "colab": {
          "base_uri": "https://localhost:8080/"
        },
        "id": "p5jNmAfEt4lE",
        "outputId": "78f43487-5ae3-4782-a960-4eb9891e4f3c"
      },
      "source": [
        "layer1_outputs = layer1(inputs)\r\n",
        "print('layer1_outputs.shape:', layer1_outputs.shape)"
      ],
      "execution_count": null,
      "outputs": [
        {
          "output_type": "stream",
          "text": [
            "layer1_outputs.shape: torch.Size([128, 32])\n"
          ],
          "name": "stdout"
        }
      ]
    },
    {
      "cell_type": "markdown",
      "metadata": {
        "id": "iVAW10L3uA5A"
      },
      "source": [
        "The image vectors of size `784` are transformed into intermediate output vectors of length `32` by performing a matrix multiplication of `inputs` matrix with the transposed weights matrix of `layer1` and adding the bias. We can verify this using `torch.allclose`."
      ]
    },
    {
      "cell_type": "code",
      "metadata": {
        "colab": {
          "base_uri": "https://localhost:8080/"
        },
        "id": "VzMtQJCtuL0B",
        "outputId": "ead2170e-8966-4972-b269-95113ecce331"
      },
      "source": [
        "layer1_outputs_direct = inputs @ layer1.weight.t() + layer1.bias\r\n",
        "layer1_outputs_direct.shape"
      ],
      "execution_count": null,
      "outputs": [
        {
          "output_type": "execute_result",
          "data": {
            "text/plain": [
              "torch.Size([128, 32])"
            ]
          },
          "metadata": {
            "tags": []
          },
          "execution_count": 16
        }
      ]
    },
    {
      "cell_type": "code",
      "metadata": {
        "colab": {
          "base_uri": "https://localhost:8080/"
        },
        "id": "rm3USF27uQ8A",
        "outputId": "27ccce0e-2514-45bf-cd42-1211ae38cf49"
      },
      "source": [
        "torch.allclose(layer1_outputs, layer1_outputs_direct, 1e-3)"
      ],
      "execution_count": null,
      "outputs": [
        {
          "output_type": "execute_result",
          "data": {
            "text/plain": [
              "True"
            ]
          },
          "metadata": {
            "tags": []
          },
          "execution_count": 17
        }
      ]
    },
    {
      "cell_type": "markdown",
      "metadata": {
        "id": "aPYQVuvJuWKG"
      },
      "source": [
        "Thus, `layer1_outputs` and `inputs` have a linear relationship, i.e., each element of `layer_outputs` is a weighted sum of elements from `inputs`. Thus, even as we train the model and modify the weights, `layer1` can only capture linear relationships between `inputs` and `outputs`.\r\n",
        "\r\n",
        "Next, we'll use the Rectified Linear Unit (ReLU) function as the activation function for the outputs. It has the formula `relu(x) = max(0,x)` i.e. it simply replaces negative values in a given tensor with the value 0. **ReLU is a non-linear function**.\r\n",
        "\r\n",
        "We can use the `F.relu` method to apply ReLU to the elements of a tensor.\r\n",
        "\r\n",
        "`Note: sigmoid and tanh are other common non-linear activation functions`"
      ]
    },
    {
      "cell_type": "code",
      "metadata": {
        "colab": {
          "base_uri": "https://localhost:8080/"
        },
        "id": "Q4TbOQ-yuvhZ",
        "outputId": "0aa21e6e-e257-4234-eddd-93d93605dd64"
      },
      "source": [
        "# example application of ReLU function on a tensor\r\n",
        "F.relu(torch.tensor([[1, -1, 0], \r\n",
        "                     [-0.1, .2, 3]]))"
      ],
      "execution_count": null,
      "outputs": [
        {
          "output_type": "execute_result",
          "data": {
            "text/plain": [
              "tensor([[1.0000, 0.0000, 0.0000],\n",
              "        [0.0000, 0.2000, 3.0000]])"
            ]
          },
          "metadata": {
            "tags": []
          },
          "execution_count": 18
        }
      ]
    },
    {
      "cell_type": "markdown",
      "metadata": {
        "id": "V0xsazB2u8Lo"
      },
      "source": [
        "Let's apply the activation function to `layer1_outputs` and verify that negative values were replaced with 0."
      ]
    },
    {
      "cell_type": "code",
      "metadata": {
        "colab": {
          "base_uri": "https://localhost:8080/"
        },
        "id": "yXX4fa-pvCS3",
        "outputId": "91da1fe5-66c4-4da7-f945-476f721445da"
      },
      "source": [
        "relu_outputs = F.relu(layer1_outputs)\r\n",
        "print('min(layer1_outputs):', torch.min(layer1_outputs).item())\r\n",
        "print('min(relu_outputs):', torch.min(relu_outputs).item())"
      ],
      "execution_count": null,
      "outputs": [
        {
          "output_type": "stream",
          "text": [
            "min(layer1_outputs): -0.8754493594169617\n",
            "min(relu_outputs): 0.0\n"
          ],
          "name": "stdout"
        }
      ]
    },
    {
      "cell_type": "markdown",
      "metadata": {
        "id": "jZ9HpA8UvJAF"
      },
      "source": [
        "Now that we've applied a non-linear activation function, `relu_outputs` and `inputs` do not have a linear relationship. We refer to `ReLU` as the *activation function*, because **for each input certain outputs are activated** (those with non-zero values) **while others turned off** (those with zero values).\r\n",
        "\r\n",
        "Next, let's create an output layer to convert vectors of length `hidden_size` in `relu_outputs` into vectors of length 10, which is the desired output of our model (since there are 10 target labels)."
      ]
    },
    {
      "cell_type": "code",
      "metadata": {
        "id": "iiT66sOdvel5"
      },
      "source": [
        "output_size = 10\r\n",
        "layer2 = nn.Linear(hidden_size, output_size)"
      ],
      "execution_count": null,
      "outputs": []
    },
    {
      "cell_type": "code",
      "metadata": {
        "colab": {
          "base_uri": "https://localhost:8080/"
        },
        "id": "e2mjO96QvhQ8",
        "outputId": "57cc5fc4-53ee-4f63-d580-efbffb3a98a9"
      },
      "source": [
        "layer2_outputs = layer2(relu_outputs)\r\n",
        "print(layer2_outputs.shape)"
      ],
      "execution_count": null,
      "outputs": [
        {
          "output_type": "stream",
          "text": [
            "torch.Size([128, 10])\n"
          ],
          "name": "stdout"
        }
      ]
    },
    {
      "cell_type": "code",
      "metadata": {
        "colab": {
          "base_uri": "https://localhost:8080/"
        },
        "id": "H_3dnk6Gvhry",
        "outputId": "bf0096c4-0484-480d-909f-556f632cc26f"
      },
      "source": [
        "inputs.shape"
      ],
      "execution_count": null,
      "outputs": [
        {
          "output_type": "execute_result",
          "data": {
            "text/plain": [
              "torch.Size([128, 784])"
            ]
          },
          "metadata": {
            "tags": []
          },
          "execution_count": 22
        }
      ]
    },
    {
      "cell_type": "markdown",
      "metadata": {
        "id": "EdYK3JLqvm83"
      },
      "source": [
        "As expected, `layer2_outputs` contains a batch of vectors of size 10. We can now use this output to compute the loss using `F.cross_entropy` and adjust the weights of `layer1` and `layer2` using gradient descent."
      ]
    },
    {
      "cell_type": "code",
      "metadata": {
        "colab": {
          "base_uri": "https://localhost:8080/"
        },
        "id": "wYKkTSDAvjH2",
        "outputId": "9b4bd26e-8b58-4c92-ea24-1ada721dc439"
      },
      "source": [
        "# output is loss-value\r\n",
        "F.cross_entropy(layer2_outputs, labels)"
      ],
      "execution_count": null,
      "outputs": [
        {
          "output_type": "execute_result",
          "data": {
            "text/plain": [
              "tensor(2.3082, grad_fn=<NllLossBackward>)"
            ]
          },
          "metadata": {
            "tags": []
          },
          "execution_count": 23
        }
      ]
    },
    {
      "cell_type": "markdown",
      "metadata": {
        "id": "z0-Of7EnwHqN"
      },
      "source": [
        "Thus, our model transforms `inputs` into `layer2_outputs` by applying a linear transformation (using `layer1`), followed by a non-linear activation (using `F.relu`), followed by another linear transformation (using `layer2`). Let's verify this by re-computing the output using basic matrix operations."
      ]
    },
    {
      "cell_type": "code",
      "metadata": {
        "id": "NM62EdtIvwIh"
      },
      "source": [
        "# Expanded version of layer2(F.relu(layer1(inputs)))\r\n",
        "outputs = (F.relu(inputs @ layer1.weight.t() + layer1.bias)) @ layer2.weight.t() + layer2.bias"
      ],
      "execution_count": null,
      "outputs": []
    },
    {
      "cell_type": "code",
      "metadata": {
        "colab": {
          "base_uri": "https://localhost:8080/"
        },
        "id": "hqBsUWzGwf_W",
        "outputId": "741e6cba-2ebf-4f4a-a57c-158e1c41aad3"
      },
      "source": [
        "torch.allclose(outputs, layer2_outputs, 1e-3)"
      ],
      "execution_count": null,
      "outputs": [
        {
          "output_type": "execute_result",
          "data": {
            "text/plain": [
              "True"
            ]
          },
          "metadata": {
            "tags": []
          },
          "execution_count": 25
        }
      ]
    },
    {
      "cell_type": "markdown",
      "metadata": {
        "id": "cwYpofPlxSxr"
      },
      "source": [
        "Note that `outputs` and `inputs` do not have a linear relationship due to the non-linear activation function `F.relu`. As we train the model and adjust the weights of layer1 and layer2, we can now capture non-linear relationships between the images and their labels. In other words, introducing non-linearity makes the model more powerful and versatile. Also, since `hidden_size` does not depend on the dimensions of the inputs or outputs, we vary it to increase the number of parameters within the model. We can also introduce new hidden layers and apply the same non-linear activation after each hidden layer.\r\n",
        "\r\n",
        "The model we just created is called a neural network. A *deep neural network* is simply a neural network with one or more hidden layers. In fact, the Universal Approximation Theorem states that a sufficiently large & deep neural network can compute any arbitrary function i.e. it can *learn* rich and complex non-linear relationships between inputs and targets. Here are some examples:\r\n",
        "\r\n",
        "* Identifying if an image contains a cat or a dog (or something else)\r\n",
        "* Identifying the genre of a song using a 10-second sample\r\n",
        "* Classifying movie reviews as positive or negative based on their content\r\n",
        "* Navigating self-driving cars using a video feed of the road\r\n",
        "* Translating sentences from English to French (and hundreds of other languages)\r\n",
        "* Converting a speech recording to text and vice versa\r\n",
        "* And many more...\r\n",
        "\r\n",
        "It's hard to imagine how the simple process of multiplying inputs with randomly initialized matrices, applying non-linear activations, and adjusting weights repeatedly using gradient descent can yield such astounding results. Deep learning models often contain millions of parameters, which can together capture far more complex relationships than the human brain can comprehend.\r\n",
        "\r\n",
        "If we hadn't included a non-linear activation between the two linear layers, the final relationship between inputs and outputs would still be linear. A simple refactoring of the computations illustrates this."
      ]
    },
    {
      "cell_type": "code",
      "metadata": {
        "colab": {
          "base_uri": "https://localhost:8080/"
        },
        "id": "0eIdUP3dxoL1",
        "outputId": "54f6bcd6-ca87-437e-e01f-b6eae0990d6f"
      },
      "source": [
        "# Same as layer2(layer1(inputs))\r\n",
        "outputs2 = (inputs @ layer1.weight.t() + layer1.bias) @ layer2.weight.t() + layer2.bias\r\n",
        "print(outputs2.shape)"
      ],
      "execution_count": null,
      "outputs": [
        {
          "output_type": "stream",
          "text": [
            "torch.Size([128, 10])\n"
          ],
          "name": "stdout"
        }
      ]
    },
    {
      "cell_type": "code",
      "metadata": {
        "id": "BZdtIjt6xspY"
      },
      "source": [
        "# Create a single layer to replace the two linear layers\r\n",
        "combined_layer = nn.Linear(input_size, output_size)\r\n",
        "\r\n",
        "combined_layer.weight.data = layer2.weight @ layer1.weight # product of matrix transposes property (A.t() * B.t() = B * A)\r\n",
        "combined_layer.bias.data = layer1.bias @ layer2.weight.t() + layer2.bias"
      ],
      "execution_count": null,
      "outputs": []
    },
    {
      "cell_type": "code",
      "metadata": {
        "colab": {
          "base_uri": "https://localhost:8080/"
        },
        "id": "tgYs_f-2yLbf",
        "outputId": "09df802c-48c3-444f-8aa5-12c1e89b5c37"
      },
      "source": [
        "# Same as combined_layer(inputs)\r\n",
        "outputs3 = inputs @ combined_layer.weight.t() + combined_layer.bias\r\n",
        "print(outputs3.shape)"
      ],
      "execution_count": null,
      "outputs": [
        {
          "output_type": "stream",
          "text": [
            "torch.Size([128, 10])\n"
          ],
          "name": "stdout"
        }
      ]
    },
    {
      "cell_type": "code",
      "metadata": {
        "colab": {
          "base_uri": "https://localhost:8080/"
        },
        "id": "YYj_2LkoyNkn",
        "outputId": "82b189c8-ef86-46e7-c741-2010666a0a6d"
      },
      "source": [
        "torch.allclose(outputs2, outputs3, 1e-3)"
      ],
      "execution_count": null,
      "outputs": [
        {
          "output_type": "execute_result",
          "data": {
            "text/plain": [
              "True"
            ]
          },
          "metadata": {
            "tags": []
          },
          "execution_count": 29
        }
      ]
    },
    {
      "cell_type": "markdown",
      "metadata": {
        "id": "tihEnM96zc0-"
      },
      "source": [
        "Model\r\n",
        "\r\n",
        "We are now ready to define our model. As discussed above, we'll create a neural network with one hidden layer. Here's what that means:\r\n",
        "\r\n",
        "Instead of using a single `nn.Linear` object to transform a batch of inputs (pixel intensities) into outputs (class probabilities), we'll use two `nn.Linear` objects. Each of these is called a *layer* in the network.\r\n",
        "\r\n",
        "The first layer (also known as the hidden layer) will transform the input matrix of shape `batch_size x 784` into an intermediate output matrix of shape `batch_size x hidden_size`. The parameter `hidden_size` can be configured manually (e.g., 32 or 64).\r\n",
        "\r\n",
        "We'll then apply a non-linear *activation function* to the intermediate outputs. The activation function transforms individual elements of the matrix.\r\n",
        "\r\n",
        "The result of the activation function, which is also of size `batch_size x hidden_size`, is passed into the second layer (also known as the output layer). The second layer transforms it into a matrix of size `batch_size x 10`. We can use this output to compute the loss and adjust weights using gradient descent.\r\n",
        "\r\n",
        "Let's define the model by extending the `nn.Module` class from PyTorch."
      ]
    },
    {
      "cell_type": "code",
      "metadata": {
        "id": "dcploYxQ0GZq"
      },
      "source": [
        "class MnistModel(nn.Module):\r\n",
        "    \"\"\"Feedfoward neural network with 1 hidden layer\"\"\"\r\n",
        "    def __init__(self, in_size, hidden_size, out_size):\r\n",
        "        super().__init__()\r\n",
        "        # hidden layer\r\n",
        "        self.linear1 = nn.Linear(in_size, hidden_size)\r\n",
        "        # output layer\r\n",
        "        self.linear2 = nn.Linear(hidden_size, out_size)\r\n",
        "        \r\n",
        "    def forward(self, xb):\r\n",
        "        # Flatten the image tensors\r\n",
        "        xb = xb.view(xb.size(0), -1)\r\n",
        "        # Get intermediate outputs using hidden layer\r\n",
        "        out = self.linear1(xb)\r\n",
        "        # Apply activation function\r\n",
        "        out = F.relu(out)\r\n",
        "        # Get predictions using output layer\r\n",
        "        out = self.linear2(out)\r\n",
        "        return out\r\n",
        "    \r\n",
        "    def training_step(self, batch):\r\n",
        "        images, labels = batch \r\n",
        "        out = self(images)                  # Generate predictions\r\n",
        "        loss = F.cross_entropy(out, labels) # Calculate loss\r\n",
        "        return loss\r\n",
        "    \r\n",
        "    def validation_step(self, batch):\r\n",
        "        images, labels = batch \r\n",
        "        out = self(images)                    # Generate predictions\r\n",
        "        loss = F.cross_entropy(out, labels)   # Calculate loss\r\n",
        "        acc = accuracy(out, labels)           # Calculate accuracy\r\n",
        "        return {'val_loss': loss, 'val_acc': acc}\r\n",
        "        \r\n",
        "    def validation_epoch_end(self, outputs):\r\n",
        "        batch_losses = [x['val_loss'] for x in outputs]\r\n",
        "        epoch_loss = torch.stack(batch_losses).mean()   # Combine losses\r\n",
        "        batch_accs = [x['val_acc'] for x in outputs]\r\n",
        "        epoch_acc = torch.stack(batch_accs).mean()      # Combine accuracies\r\n",
        "        return {'val_loss': epoch_loss.item(), 'val_acc': epoch_acc.item()}\r\n",
        "    \r\n",
        "    def epoch_end(self, epoch, result):\r\n",
        "        print(\"Epoch [{}], val_loss: {:.4f}, val_acc: {:.4f}\".format(epoch, result['val_loss'], result['val_acc']))"
      ],
      "execution_count": null,
      "outputs": []
    },
    {
      "cell_type": "markdown",
      "metadata": {
        "id": "O-d21dKi0t3Y"
      },
      "source": [
        "We also need to define an `accuracy` function which calculates the accuracy of the model's prediction on an batch of inputs. It's used in `validation_step` above."
      ]
    },
    {
      "cell_type": "code",
      "metadata": {
        "id": "0MiaxnVk1q1t"
      },
      "source": [
        "def accuracy(outputs, labels):\r\n",
        "    _, preds = torch.max(outputs, dim=1)\r\n",
        "    return torch.tensor(torch.sum(preds == labels).item() / len(preds))"
      ],
      "execution_count": null,
      "outputs": []
    },
    {
      "cell_type": "markdown",
      "metadata": {
        "id": "6ufMDwDu1tHM"
      },
      "source": [
        "We'll create a model that contains a hidden layer with 32 activations."
      ]
    },
    {
      "cell_type": "code",
      "metadata": {
        "id": "5ccC1Gvj1wgh"
      },
      "source": [
        "input_size = 784\r\n",
        "hidden_size = 32 # can be modified\r\n",
        "num_classes = 10"
      ],
      "execution_count": null,
      "outputs": []
    },
    {
      "cell_type": "code",
      "metadata": {
        "id": "Ty03gnLH12s1"
      },
      "source": [
        "model = MnistModel(input_size, hidden_size=32, out_size=num_classes)"
      ],
      "execution_count": null,
      "outputs": []
    },
    {
      "cell_type": "markdown",
      "metadata": {
        "id": "IVlZriOe16sK"
      },
      "source": [
        "Let's take a look at the model's parameters. We expect to see one weight and bias matrix for each of the layers."
      ]
    },
    {
      "cell_type": "code",
      "metadata": {
        "colab": {
          "base_uri": "https://localhost:8080/"
        },
        "id": "ca5g3eCt17Yi",
        "outputId": "1a049eb6-32b1-42b0-d6ab-5fea4b02714c"
      },
      "source": [
        "# matrices are transposed in linear transformations (multiplication and addition) of matrices\r\n",
        "for t in model.parameters():\r\n",
        "    print(t.shape)"
      ],
      "execution_count": null,
      "outputs": [
        {
          "output_type": "stream",
          "text": [
            "torch.Size([32, 784])\n",
            "torch.Size([32])\n",
            "torch.Size([10, 32])\n",
            "torch.Size([10])\n"
          ],
          "name": "stdout"
        }
      ]
    },
    {
      "cell_type": "markdown",
      "metadata": {
        "id": "Fo7CM3uN2qka"
      },
      "source": [
        "Let's try and generate some outputs using our model. We'll take the first batch of 128 images from our dataset and pass them into our model."
      ]
    },
    {
      "cell_type": "code",
      "metadata": {
        "colab": {
          "base_uri": "https://localhost:8080/"
        },
        "id": "PNJla2Nz2sDB",
        "outputId": "8e9312c7-8670-4396-cf0d-dd48ae0b7d90"
      },
      "source": [
        "for images, labels in train_loader:\r\n",
        "    outputs = model(images)\r\n",
        "    loss = F.cross_entropy(outputs, labels)\r\n",
        "    print('Loss:', loss.item())\r\n",
        "    break\r\n",
        "\r\n",
        "print('outputs.shape : ', outputs.shape)\r\n",
        "print('Sample outputs :\\n', outputs[:2].data)"
      ],
      "execution_count": null,
      "outputs": [
        {
          "output_type": "stream",
          "text": [
            "Loss: 2.3024444580078125\n",
            "outputs.shape :  torch.Size([128, 10])\n",
            "Sample outputs :\n",
            " tensor([[ 0.0351, -0.0447,  0.0054,  0.0631,  0.0056, -0.1471,  0.1025, -0.1144,\n",
            "          0.0062,  0.1481],\n",
            "        [-0.0116, -0.0775,  0.0497,  0.1775, -0.0725, -0.0221,  0.0934, -0.1134,\n",
            "         -0.0064,  0.1206]])\n"
          ],
          "name": "stdout"
        }
      ]
    },
    {
      "cell_type": "markdown",
      "metadata": {
        "id": "2QR0bYCy25rA"
      },
      "source": [
        "# **Using a GPU**\r\n",
        "\r\n",
        "As the sizes of our models and datasets increase, we need to use GPUs to train our models within a reasonable amount of time. GPUs contain hundreds of cores optimized for performing expensive matrix operations on floating-point numbers quickly, making them ideal for training deep neural networks. You can use GPUs for free on Google Colab and Kaggle or rent GPU-powered machines on services like Google Cloud Platform, Amazon Web Services, and Paperspace.\r\n",
        "\r\n",
        "We can check if a GPU is available and the required NVIDIA CUDA drivers are installed using `torch.cuda.is_available`."
      ]
    },
    {
      "cell_type": "code",
      "metadata": {
        "colab": {
          "base_uri": "https://localhost:8080/"
        },
        "id": "PaQc0ntI3GXD",
        "outputId": "7345d241-b0fd-4bb1-bfc8-5c12fcd0b73e"
      },
      "source": [
        "torch.cuda.is_available()"
      ],
      "execution_count": null,
      "outputs": [
        {
          "output_type": "execute_result",
          "data": {
            "text/plain": [
              "True"
            ]
          },
          "metadata": {
            "tags": []
          },
          "execution_count": 36
        }
      ]
    },
    {
      "cell_type": "markdown",
      "metadata": {
        "id": "JMPR6WGW3KL5"
      },
      "source": [
        "Let's define a helper function to ensure that our code uses the GPU if available and defaults to using the CPU if it isn't."
      ]
    },
    {
      "cell_type": "code",
      "metadata": {
        "id": "k-qfZgQk3LAu"
      },
      "source": [
        "def get_default_device():\r\n",
        "    \"\"\"Pick GPU if available, else CPU\"\"\"\r\n",
        "    if torch.cuda.is_available():\r\n",
        "        return torch.device('cuda')\r\n",
        "    else:\r\n",
        "        return torch.device('cpu')"
      ],
      "execution_count": null,
      "outputs": []
    },
    {
      "cell_type": "code",
      "metadata": {
        "colab": {
          "base_uri": "https://localhost:8080/"
        },
        "id": "OZKpIxe03N6G",
        "outputId": "8cc63bfd-113f-4849-901a-e6e9c67a86ad"
      },
      "source": [
        "device = get_default_device()\r\n",
        "device"
      ],
      "execution_count": null,
      "outputs": [
        {
          "output_type": "execute_result",
          "data": {
            "text/plain": [
              "device(type='cuda')"
            ]
          },
          "metadata": {
            "tags": []
          },
          "execution_count": 38
        }
      ]
    },
    {
      "cell_type": "markdown",
      "metadata": {
        "id": "WEFZJ-623QXg"
      },
      "source": [
        "Next, let's define a function that can move data and model to a chosen device."
      ]
    },
    {
      "cell_type": "code",
      "metadata": {
        "id": "Odywb5AP3ORn"
      },
      "source": [
        "def to_device(data, device):\r\n",
        "    \"\"\"Move tensor(s) to chosen device\"\"\"\r\n",
        "    if isinstance(data, (list,tuple)):\r\n",
        "        return [to_device(x, device) for x in data]\r\n",
        "    return data.to(device, non_blocking=True)"
      ],
      "execution_count": null,
      "outputs": []
    },
    {
      "cell_type": "code",
      "metadata": {
        "colab": {
          "base_uri": "https://localhost:8080/"
        },
        "id": "R0WQ97ce3mCc",
        "outputId": "dbad9f1b-6233-46df-e237-41fc278451dc"
      },
      "source": [
        "for images, labels in train_loader:\r\n",
        "    print(images.shape)\r\n",
        "    images = to_device(images, device)\r\n",
        "    print(images.device)\r\n",
        "    break"
      ],
      "execution_count": null,
      "outputs": [
        {
          "output_type": "stream",
          "text": [
            "torch.Size([128, 1, 28, 28])\n",
            "cuda:0\n"
          ],
          "name": "stdout"
        }
      ]
    },
    {
      "cell_type": "markdown",
      "metadata": {
        "id": "8jKPqRSl3uUE"
      },
      "source": [
        "Finally, we define a `DeviceDataLoader` class to wrap our existing data loaders and move batches of data to the selected device. Interestingly, we don't need to extend an existing class to create a PyTorch datal oader. All we need is an `__iter__` method to retrieve batches of data and an `__len__` method to get the number of batches."
      ]
    },
    {
      "cell_type": "code",
      "metadata": {
        "id": "Qh9HAKt638wA"
      },
      "source": [
        "class DeviceDataLoader():\r\n",
        "    \"\"\"Wrap a dataloader to move data to a device\"\"\"\r\n",
        "    def __init__(self, dl, device):\r\n",
        "        self.dl = dl\r\n",
        "        self.device = device\r\n",
        "        \r\n",
        "    def __iter__(self):\r\n",
        "        \"\"\"Yield a batch of data after moving it to device\"\"\"\r\n",
        "        for b in self.dl: \r\n",
        "            yield to_device(b, self.device)\r\n",
        "\r\n",
        "    def __len__(self):\r\n",
        "        \"\"\"Number of batches\"\"\"\r\n",
        "        return len(self.dl)"
      ],
      "execution_count": null,
      "outputs": []
    },
    {
      "cell_type": "markdown",
      "metadata": {
        "id": "3Q2WncBw4BLH"
      },
      "source": [
        "The `yield` keyword in Python is used to create a generator function that can be used within a `for` loop, as illustrated below."
      ]
    },
    {
      "cell_type": "code",
      "metadata": {
        "colab": {
          "base_uri": "https://localhost:8080/"
        },
        "id": "IfQMKcCV4EvI",
        "outputId": "22ddff90-1868-44f3-f1b8-38ddc8872887"
      },
      "source": [
        "def some_numbers():\r\n",
        "    yield 10\r\n",
        "    yield 20\r\n",
        "    yield 30\r\n",
        "\r\n",
        "for value in some_numbers():\r\n",
        "    print(value)"
      ],
      "execution_count": null,
      "outputs": [
        {
          "output_type": "stream",
          "text": [
            "10\n",
            "20\n",
            "30\n"
          ],
          "name": "stdout"
        }
      ]
    },
    {
      "cell_type": "markdown",
      "metadata": {
        "id": "T5-dDZ6L4I8W"
      },
      "source": [
        "We can now wrap our data loaders using `DeviceDataLoader`."
      ]
    },
    {
      "cell_type": "code",
      "metadata": {
        "id": "LPUlzUME4UtP"
      },
      "source": [
        "train_loader = DeviceDataLoader(train_loader, device)\r\n",
        "val_loader = DeviceDataLoader(val_loader, device)"
      ],
      "execution_count": null,
      "outputs": []
    },
    {
      "cell_type": "markdown",
      "metadata": {
        "id": "622_dQda4af8"
      },
      "source": [
        "Tensors moved to the GPU have a `device` property which includes that word `cuda`. Let's verify this by looking at a batch of data from `valid_dl`."
      ]
    },
    {
      "cell_type": "code",
      "metadata": {
        "colab": {
          "base_uri": "https://localhost:8080/"
        },
        "id": "U6laJlv44f9p",
        "outputId": "96b255c4-ae81-4d45-e3d2-d6a8d499541c"
      },
      "source": [
        "# xb contains the array of pixel values for each image\r\n",
        "# yb contains the respective label (answer) for each image\r\n",
        "for xb, yb in val_loader:\r\n",
        "    print('xb.device:', xb.device)\r\n",
        "    print('yb:', yb)\r\n",
        "    break"
      ],
      "execution_count": null,
      "outputs": [
        {
          "output_type": "stream",
          "text": [
            "xb.device: cuda:0\n",
            "yb: tensor([9, 5, 9, 0, 0, 0, 8, 1, 8, 2, 4, 0, 6, 2, 3, 8, 0, 8, 0, 3, 2, 7, 2, 7,\n",
            "        8, 7, 3, 2, 6, 9, 6, 5, 6, 9, 4, 8, 2, 7, 4, 1, 2, 6, 5, 0, 1, 7, 5, 0,\n",
            "        5, 1, 8, 7, 2, 1, 6, 4, 0, 2, 0, 0, 0, 1, 4, 6, 8, 3, 9, 8, 2, 6, 1, 2,\n",
            "        6, 4, 6, 8, 4, 5, 7, 2, 5, 5, 9, 2, 5, 9, 9, 0, 6, 5, 8, 6, 3, 6, 9, 9,\n",
            "        0, 6, 0, 3, 2, 3, 5, 1, 8, 8, 7, 7, 6, 2, 4, 1, 8, 8, 0, 3, 9, 6, 1, 3,\n",
            "        1, 0, 6, 1, 5, 9, 7, 1, 0, 4, 4, 0, 3, 1, 4, 9, 8, 1, 7, 8, 2, 6, 2, 2,\n",
            "        7, 7, 3, 7, 9, 2, 1, 5, 1, 1, 2, 5, 1, 2, 0, 6, 0, 0, 2, 1, 1, 1, 2, 3,\n",
            "        0, 0, 3, 0, 9, 4, 7, 7, 7, 9, 9, 3, 7, 7, 4, 8, 5, 3, 8, 0, 3, 1, 2, 6,\n",
            "        3, 3, 1, 0, 8, 4, 9, 1, 3, 9, 5, 1, 9, 6, 6, 5, 5, 1, 3, 9, 2, 4, 2, 9,\n",
            "        8, 5, 5, 8, 4, 2, 0, 7, 8, 2, 8, 4, 1, 0, 2, 3, 9, 3, 0, 6, 9, 1, 3, 3,\n",
            "        3, 3, 1, 9, 2, 6, 7, 4, 5, 8, 0, 2, 4, 5, 1, 0], device='cuda:0')\n"
          ],
          "name": "stdout"
        }
      ]
    },
    {
      "cell_type": "markdown",
      "metadata": {
        "id": "Frvqx5U86dEY"
      },
      "source": [
        "# **Training the Model**\r\n",
        "\r\n",
        "We'll define two functions: `fit` and `evaluate` to train the model using gradient descent and evaluate its performance on the validation set."
      ]
    },
    {
      "cell_type": "code",
      "metadata": {
        "id": "NPYDW1s06k9R"
      },
      "source": [
        "def evaluate(model, val_loader):\r\n",
        "    \"\"\"Evaluate the model's performance on the validation set\"\"\"\r\n",
        "    outputs = [model.validation_step(batch) for batch in val_loader]\r\n",
        "    return model.validation_epoch_end(outputs)\r\n",
        "\r\n",
        "def fit(epochs, lr, model, train_loader, val_loader, opt_func=torch.optim.SGD):\r\n",
        "    \"\"\"Train the model using gradient descent\"\"\"\r\n",
        "    history = []\r\n",
        "    optimizer = opt_func(model.parameters(), lr)\r\n",
        "    for epoch in range(epochs):\r\n",
        "        # Training Phase \r\n",
        "        for batch in train_loader:\r\n",
        "            loss = model.training_step(batch)\r\n",
        "            loss.backward()\r\n",
        "            optimizer.step()\r\n",
        "            optimizer.zero_grad()\r\n",
        "        # Validation phase\r\n",
        "        result = evaluate(model, val_loader)\r\n",
        "        model.epoch_end(epoch, result)\r\n",
        "        history.append(result)\r\n",
        "    return history"
      ],
      "execution_count": null,
      "outputs": []
    },
    {
      "cell_type": "markdown",
      "metadata": {
        "id": "MUeflImm6pY-"
      },
      "source": [
        "Before we train the model, we need to ensure that the data and the model's parameters (weights and biases) are on the same device (CPU or GPU). We can reuse the `to_device` function to move the model's parameters to the right device."
      ]
    },
    {
      "cell_type": "code",
      "metadata": {
        "colab": {
          "base_uri": "https://localhost:8080/"
        },
        "id": "qhr-DsnQ6uFe",
        "outputId": "172edaaa-c3ed-41ed-db66-dd576020c0d8"
      },
      "source": [
        "# Model (on GPU)\r\n",
        "model = MnistModel(input_size, hidden_size=hidden_size, out_size=num_classes)\r\n",
        "to_device(model, device)"
      ],
      "execution_count": null,
      "outputs": [
        {
          "output_type": "execute_result",
          "data": {
            "text/plain": [
              "MnistModel(\n",
              "  (linear1): Linear(in_features=784, out_features=32, bias=True)\n",
              "  (linear2): Linear(in_features=32, out_features=10, bias=True)\n",
              ")"
            ]
          },
          "metadata": {
            "tags": []
          },
          "execution_count": 52
        }
      ]
    },
    {
      "cell_type": "markdown",
      "metadata": {
        "id": "4pwT7KL26zu0"
      },
      "source": [
        "Let's see how the model performs on the validation set with the initial set of weights and biases."
      ]
    },
    {
      "cell_type": "code",
      "metadata": {
        "colab": {
          "base_uri": "https://localhost:8080/"
        },
        "id": "XS-Bykfx60Y7",
        "outputId": "f6adba5b-428f-45ee-9c87-ee0272934e00"
      },
      "source": [
        "history = [evaluate(model, val_loader)]\r\n",
        "history"
      ],
      "execution_count": null,
      "outputs": [
        {
          "output_type": "execute_result",
          "data": {
            "text/plain": [
              "[{'val_acc': 0.06015624850988388, 'val_loss': 2.3255176544189453}]"
            ]
          },
          "metadata": {
            "tags": []
          },
          "execution_count": 53
        }
      ]
    },
    {
      "cell_type": "markdown",
      "metadata": {
        "id": "GQ7TqP7f7DKR"
      },
      "source": [
        "The initial accuracy is around 10%, as one might expect from a randomly initialized model (since it has a 1 in 10 chance of getting a label right by guessing randomly).\r\n",
        "\r\n",
        "Let's train the model for five epochs and look at the results. We can use a relatively high learning rate of 0.5."
      ]
    },
    {
      "cell_type": "code",
      "metadata": {
        "colab": {
          "base_uri": "https://localhost:8080/"
        },
        "id": "YHIipUvf62iY",
        "outputId": "89b5d3be-31a6-4189-cee9-8bd42153e94b"
      },
      "source": [
        "history += fit(5, 0.5, model, train_loader, val_loader)"
      ],
      "execution_count": null,
      "outputs": [
        {
          "output_type": "stream",
          "text": [
            "Epoch [0], val_loss: 0.2164, val_acc: 0.9357\n",
            "Epoch [1], val_loss: 0.1824, val_acc: 0.9438\n",
            "Epoch [2], val_loss: 0.1497, val_acc: 0.9527\n",
            "Epoch [3], val_loss: 0.1427, val_acc: 0.9588\n",
            "Epoch [4], val_loss: 0.1307, val_acc: 0.9591\n"
          ],
          "name": "stdout"
        }
      ]
    },
    {
      "cell_type": "markdown",
      "metadata": {
        "id": "fK1jyNZu7MoL"
      },
      "source": [
        "Let's train the model for five more epochs at a lower learning rate of 0.1 to improve the accuracy further."
      ]
    },
    {
      "cell_type": "code",
      "metadata": {
        "colab": {
          "base_uri": "https://localhost:8080/"
        },
        "id": "a5IDRJ8E7FsJ",
        "outputId": "9912aa14-e9ac-40a1-fce0-00589d3b4554"
      },
      "source": [
        "history += fit(5, 0.1, model, train_loader, val_loader)"
      ],
      "execution_count": null,
      "outputs": [
        {
          "output_type": "stream",
          "text": [
            "Epoch [0], val_loss: 0.1071, val_acc: 0.9687\n",
            "Epoch [1], val_loss: 0.1048, val_acc: 0.9691\n",
            "Epoch [2], val_loss: 0.1068, val_acc: 0.9682\n",
            "Epoch [3], val_loss: 0.1063, val_acc: 0.9696\n",
            "Epoch [4], val_loss: 0.1038, val_acc: 0.9701\n"
          ],
          "name": "stdout"
        }
      ]
    },
    {
      "cell_type": "markdown",
      "metadata": {
        "id": "fmmUT5Sv7Ri_"
      },
      "source": [
        "We can now plot the losses & accuracies to study how the model improves over time."
      ]
    },
    {
      "cell_type": "code",
      "metadata": {
        "colab": {
          "base_uri": "https://localhost:8080/",
          "height": 295
        },
        "id": "5vk05yFH7PBZ",
        "outputId": "2a8799fa-830f-48e0-fab8-48591a10c7fa"
      },
      "source": [
        "losses = [x['val_loss'] for x in history]\r\n",
        "plt.plot(losses, '-x')\r\n",
        "plt.xlabel('epoch')\r\n",
        "plt.ylabel('loss')\r\n",
        "plt.title('Loss vs. No. of epochs');"
      ],
      "execution_count": null,
      "outputs": [
        {
          "output_type": "display_data",
          "data": {
            "image/png": "[encoded data removed]",
            "text/plain": [
              "<Figure size 432x288 with 1 Axes>"
            ]
          },
          "metadata": {
            "tags": []
          }
        }
      ]
    },
    {
      "cell_type": "code",
      "metadata": {
        "colab": {
          "base_uri": "https://localhost:8080/",
          "height": 295
        },
        "id": "6wiet8wL7VPi",
        "outputId": "0928a79c-2fe8-48b2-bdae-0fe7e5aba2aa"
      },
      "source": [
        "accuracies = [x['val_acc'] for x in history]\r\n",
        "plt.plot(accuracies, '-x')\r\n",
        "plt.xlabel('epoch')\r\n",
        "plt.ylabel('accuracy')\r\n",
        "plt.title('Accuracy vs. No. of epochs');"
      ],
      "execution_count": null,
      "outputs": [
        {
          "output_type": "display_data",
          "data": {
            "image/png": "[encoded data removed]",
            "text/plain": [
              "<Figure size 432x288 with 1 Axes>"
            ]
          },
          "metadata": {
            "tags": []
          }
        }
      ]
    },
    {
      "cell_type": "markdown",
      "metadata": {
        "id": "72gptrDg7feS"
      },
      "source": [
        "Our current model outperforms the logistic regression model by a considerable margin. To improve accuracy further, we need to make the model more powerful by increasing the hidden layer's size or adding more hidden layers with activations."
      ]
    },
    {
      "cell_type": "markdown",
      "metadata": {
        "id": "tpWt5rXQ7n4m"
      },
      "source": [
        "# **Testing with individual images**\r\n",
        "\r\n",
        "While we have been tracking the overall accuracy of a model so far, it's also a good idea to look at model's results on some sample images. Let's test out our model with some images from the predefined test dataset of 10000 images. We begin by recreating the test dataset with the `ToTensor` transform."
      ]
    },
    {
      "cell_type": "code",
      "metadata": {
        "id": "GJjc_-uM7-IX"
      },
      "source": [
        "# Define test dataset\r\n",
        "test_dataset = MNIST(root='/tmp', \r\n",
        "                     train=False,\r\n",
        "                     transform=ToTensor())"
      ],
      "execution_count": null,
      "outputs": []
    },
    {
      "cell_type": "markdown",
      "metadata": {
        "id": "39EplmWY8EG1"
      },
      "source": [
        "Let's define a helper function `predict_image`, which returns the predicted label for a single image tensor."
      ]
    },
    {
      "cell_type": "code",
      "metadata": {
        "id": "_eG-JoCT7u_e"
      },
      "source": [
        "def predict_image(img, model):\r\n",
        "    xb = to_device(img.unsqueeze(0), device)\r\n",
        "    yb = model(xb)\r\n",
        "    _, preds  = torch.max(yb, dim=1)\r\n",
        "    return preds[0].item()"
      ],
      "execution_count": null,
      "outputs": []
    },
    {
      "cell_type": "code",
      "metadata": {
        "colab": {
          "base_uri": "https://localhost:8080/",
          "height": 282
        },
        "id": "-c4vlfrb73Nu",
        "outputId": "5f3266b3-6dd2-4084-ed4f-279f89f18ec4"
      },
      "source": [
        "img, label = test_dataset[0]\r\n",
        "plt.imshow(img[0], cmap='gray')\r\n",
        "print('Label:', label, ', Predicted:', predict_image(img, model))"
      ],
      "execution_count": null,
      "outputs": [
        {
          "output_type": "stream",
          "text": [
            "Label: 7 , Predicted: 7\n"
          ],
          "name": "stdout"
        },
        {
          "output_type": "display_data",
          "data": {
            "image/png": "[encoded data removed]",
            "text/plain": [
              "<Figure size 432x288 with 1 Axes>"
            ]
          },
          "metadata": {
            "tags": []
          }
        }
      ]
    },
    {
      "cell_type": "code",
      "metadata": {
        "colab": {
          "base_uri": "https://localhost:8080/",
          "height": 282
        },
        "id": "_rvxWNOX73rq",
        "outputId": "0d759254-0cb4-434e-fe59-f5d242980fa2"
      },
      "source": [
        "img, label = test_dataset[1839]\r\n",
        "plt.imshow(img[0], cmap='gray')\r\n",
        "print('Label:', label, ', Predicted:', predict_image(img, model))"
      ],
      "execution_count": null,
      "outputs": [
        {
          "output_type": "stream",
          "text": [
            "Label: 2 , Predicted: 2\n"
          ],
          "name": "stdout"
        },
        {
          "output_type": "display_data",
          "data": {
            "image/png": "[encoded data removed]",
            "text/plain": [
              "<Figure size 432x288 with 1 Axes>"
            ]
          },
          "metadata": {
            "tags": []
          }
        }
      ]
    },
    {
      "cell_type": "code",
      "metadata": {
        "colab": {
          "base_uri": "https://localhost:8080/",
          "height": 282
        },
        "id": "0L7sa1-j8PmP",
        "outputId": "e20ffdb7-e6a9-4980-bc67-d7cac4dad066"
      },
      "source": [
        "img, label = test_dataset[193]\r\n",
        "plt.imshow(img[0], cmap='gray')\r\n",
        "print('Label:', label, ', Predicted:', predict_image(img, model))"
      ],
      "execution_count": null,
      "outputs": [
        {
          "output_type": "stream",
          "text": [
            "Label: 9 , Predicted: 9\n"
          ],
          "name": "stdout"
        },
        {
          "output_type": "display_data",
          "data": {
            "image/png": "[encoded data removed]",
            "text/plain": [
              "<Figure size 432x288 with 1 Axes>"
            ]
          },
          "metadata": {
            "tags": []
          }
        }
      ]
    },
    {
      "cell_type": "markdown",
      "metadata": {
        "id": "uqzMWEyC8VID"
      },
      "source": [
        "Identifying where our model performs poorly can help us improve the model, by collecting more training data, increasing/decreasing the complexity of the model, and changing the hypeparameters.\r\n",
        "\r\n",
        "As a final step, let's also look at the overall loss and accuracy of the model on the test set."
      ]
    },
    {
      "cell_type": "code",
      "metadata": {
        "colab": {
          "base_uri": "https://localhost:8080/"
        },
        "id": "ucABhXMV8RbL",
        "outputId": "7e3396e4-85e2-4c3e-e396-972c89c13b0f"
      },
      "source": [
        "test_loader = DeviceDataLoader(DataLoader(test_dataset, batch_size=256), device)\r\n",
        "result = evaluate(model, test_loader)\r\n",
        "result"
      ],
      "execution_count": null,
      "outputs": [
        {
          "output_type": "execute_result",
          "data": {
            "text/plain": [
              "{'val_acc': 0.970996081829071, 'val_loss': 0.1029476448893547}"
            ]
          },
          "metadata": {
            "tags": []
          },
          "execution_count": 66
        }
      ]
    },
    {
      "cell_type": "markdown",
      "metadata": {
        "id": "LNm58H3e8hvn"
      },
      "source": [
        "We expect this to be similar to the accuracy/loss on the validation set. If not, we might need a better validation set that has similar data and distribution as the test set (which often comes from real world data)."
      ]
    },
    {
      "cell_type": "code",
      "metadata": {
        "id": "N7mw_ssN8kDg"
      },
      "source": [
        "torch.save(model.state_dict(), 'mnist-feedforward.pth')"
      ],
      "execution_count": null,
      "outputs": []
    }
  ]
}