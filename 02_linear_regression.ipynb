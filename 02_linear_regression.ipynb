{
  "nbformat": 4,
  "nbformat_minor": 0,
  "metadata": {
    "colab": {
      "name": "02-linear-regression.ipynb",
      "provenance": [],
      "collapsed_sections": []
    },
    "kernelspec": {
      "name": "python3",
      "display_name": "Python 3"
    }
  },
  "cells": [
    {
      "cell_type": "markdown",
      "metadata": {
        "id": "muDoEdjxIv-N"
      },
      "source": [
        "# **Gradient Descent and Linear Regression with PyTorch**\r\n",
        "*   Introduction to linear regression and gradient descent\r\n",
        "*   Implementing a linear regression model using PyTorch tensors\r\n",
        "*   Training a linear regression model using the gradient descent algorithm\r\n",
        "*   Implementing gradient descent and linear regression using PyTorch built-in\r\n",
        "\r\n",
        "\r\n",
        "\r\n",
        "\r\n"
      ]
    },
    {
      "cell_type": "code",
      "metadata": {
        "id": "wPAmiAsgJkAj"
      },
      "source": [
        "# Uncomment and run the appropriate command for your operating system, if required\r\n",
        "\r\n",
        "# Linux / Binder\r\n",
        "# !pip install numpy torch==1.7.0+cpu torchvision==0.8.1+cpu torchaudio==0.7.0 -f https://download.pytorch.org/whl/torch_stable.html\r\n",
        "\r\n",
        "# Windows\r\n",
        "# !pip install numpy torch==1.7.0+cpu torchvision==0.8.1+cpu torchaudio==0.7.0 -f https://download.pytorch.org/whl/torch_stable.html\r\n",
        "\r\n",
        "# MacOS\r\n",
        "# !pip install numpy torch torchvision torchaudio"
      ],
      "execution_count": null,
      "outputs": []
    },
    {
      "cell_type": "markdown",
      "metadata": {
        "id": "qnkWrMzCKrSF"
      },
      "source": [
        "# **Introduction to Linear Regression**\r\n",
        "One of the foundational algorithms in machine learning: *Linear regression*. Create a model that predicts crop yields for apples and oranges (*target variables*) by looking at the average temperature, rainfall, and humidity (*input variables or features*) in a region. <br>In a linear regression model, each target variable is estimated to be a weighted sum of the input variables, offset by some constant, known as a bias :\r\n",
        "\r\n",
        "`yield_apple  = w11 * temp + w12 * rainfall + w13 * humidity + b1`<br>\r\n",
        "`yield_orange = w21 * temp + w22 * rainfall + w23 * humidity + b2`\r\n",
        "\r\n",
        "\r\n",
        "\r\n",
        "Visually, it means that the yield of apples is a linear or planar function of temperature, rainfall and humidity.<br>The *learning* part of linear regression is to figure out a set of weights `w11, w12,... w23, b1 & b2` using the training data, to make accurate predictions for new data. The *learned* weights will be used to predict the yields for apples and oranges in a new region using the average temperature, rainfall, and humidity for that region.\r\n",
        "\r\n",
        "*Train* the model by adjusting the weights slightly many times to make better predictions, using an optimization technique called *gradient descent*. <br>Begin by importing Numpy and PyTorch."
      ]
    },
    {
      "cell_type": "code",
      "metadata": {
        "id": "d_zt_Qk4MAW2"
      },
      "source": [
        "import numpy as np\r\n",
        "import torch"
      ],
      "execution_count": null,
      "outputs": []
    },
    {
      "cell_type": "markdown",
      "metadata": {
        "id": "Qp9_3PfnMw2v"
      },
      "source": [
        "# **Training Data**\r\n",
        "We can represent the training data using two matrices: `inputs` and `targets`, each with one row per observation, and one column per variable."
      ]
    },
    {
      "cell_type": "code",
      "metadata": {
        "id": "LozbLd45M2tm"
      },
      "source": [
        "# Input (temp, rainfall, humidity)\r\n",
        "inputs = np.array([[73, 67, 43], \r\n",
        "                   [91, 88, 64], \r\n",
        "                   [87, 134, 58], \r\n",
        "                   [102, 43, 37], \r\n",
        "                   [69, 96, 70]], dtype='float32')"
      ],
      "execution_count": null,
      "outputs": []
    },
    {
      "cell_type": "code",
      "metadata": {
        "id": "kSNipwZ9NBAU"
      },
      "source": [
        "# Targets (apples, oranges)\r\n",
        "targets = np.array([[56, 70], \r\n",
        "                    [81, 101], \r\n",
        "                    [119, 133], \r\n",
        "                    [22, 37], \r\n",
        "                    [103, 119]], dtype='float32')"
      ],
      "execution_count": null,
      "outputs": []
    },
    {
      "cell_type": "markdown",
      "metadata": {
        "id": "SYzbxqFiNFBn"
      },
      "source": [
        "We've separated the input and target variables because we'll operate on them separately. Also, we've created numpy arrays, because this is typically how you would work with training data: read some CSV files as numpy arrays, do some processing, and then convert them to PyTorch tensors.\r\n",
        "\r\n",
        "Let's convert the arrays to PyTorch tensors."
      ]
    },
    {
      "cell_type": "code",
      "metadata": {
        "colab": {
          "base_uri": "https://localhost:8080/"
        },
        "id": "dnw_Q4JQNN3V",
        "outputId": "1b3171ea-0abb-4b51-b88f-2c694d743dbb"
      },
      "source": [
        "# Convert inputs and targets to tensors\r\n",
        "inputs = torch.from_numpy(inputs)\r\n",
        "targets = torch.from_numpy(targets)\r\n",
        "print(inputs)\r\n",
        "print(targets)"
      ],
      "execution_count": null,
      "outputs": [
        {
          "output_type": "stream",
          "text": [
            "tensor([[ 73.,  67.,  43.],\n",
            "        [ 91.,  88.,  64.],\n",
            "        [ 87., 134.,  58.],\n",
            "        [102.,  43.,  37.],\n",
            "        [ 69.,  96.,  70.]])\n",
            "tensor([[ 56.,  70.],\n",
            "        [ 81., 101.],\n",
            "        [119., 133.],\n",
            "        [ 22.,  37.],\n",
            "        [103., 119.]])\n"
          ],
          "name": "stdout"
        }
      ]
    },
    {
      "cell_type": "markdown",
      "metadata": {
        "id": "doaIThObRhJS"
      },
      "source": [
        "# **Linear regression model from scratch**\r\n",
        "The weights and biases (`w11, w12,... w23, b1 & b2`) can also be represented as matrices, initialized as random values. The first row of `w` and the first element of `b` are used to predict the first target variable, i.e., yield of apples, and similarly, the second for oranges."
      ]
    },
    {
      "cell_type": "code",
      "metadata": {
        "colab": {
          "base_uri": "https://localhost:8080/"
        },
        "id": "BQ-IOsmURpRS",
        "outputId": "8e1d15de-bf4a-4359-a90c-8135c8c06bf3"
      },
      "source": [
        "# Weights and biases\r\n",
        "# Note, w is created as a 2 rows x 3 columns matrix\r\n",
        "w = torch.randn(2, 3, requires_grad=True)\r\n",
        "b = torch.randn(2, requires_grad=True)\r\n",
        "print(w)\r\n",
        "print(b)"
      ],
      "execution_count": null,
      "outputs": [
        {
          "output_type": "stream",
          "text": [
            "tensor([[-1.7312, -0.6654,  1.5239],\n",
            "        [ 0.5984,  0.9049, -1.4181]], requires_grad=True)\n",
            "tensor([ 0.0239, -0.1961], requires_grad=True)\n"
          ],
          "name": "stdout"
        }
      ]
    },
    {
      "cell_type": "markdown",
      "metadata": {
        "id": "gd4LBbUIR49J"
      },
      "source": [
        "`torch.randn` creates a tensor with the given shape, with elements picked randomly from a normal distribution with mean 0 and standard deviation 1.\r\n",
        "\r\n",
        "Our *model* is simply a function that performs a matrix multiplication of the `inputs` and the weights `w` (transposed) and adds the bias `b` (replicated for each observation).\r\n",
        "\r\n",
        "We can define the model as follows:"
      ]
    },
    {
      "cell_type": "code",
      "metadata": {
        "id": "bN-NdHlvSFv7"
      },
      "source": [
        "def model(x):\r\n",
        "    return x @ w.t() + b"
      ],
      "execution_count": null,
      "outputs": []
    },
    {
      "cell_type": "markdown",
      "metadata": {
        "id": "C6WS8u-LSMNW"
      },
      "source": [
        "`@` represents matrix multiplication in PyTorch, and the `.t` method returns the transpose of a tensor.\r\n",
        "\r\n",
        "The matrix obtained by passing the input data into the model is a set of predictions for the target variables."
      ]
    },
    {
      "cell_type": "code",
      "metadata": {
        "colab": {
          "base_uri": "https://localhost:8080/"
        },
        "id": "u8-SUl2JSQPB",
        "outputId": "108b2cf2-51dc-4be5-d7e9-f6796f7a0eea"
      },
      "source": [
        "# Generate predictions\r\n",
        "preds = model(inputs)\r\n",
        "print(preds)"
      ],
      "execution_count": null,
      "outputs": [
        {
          "output_type": "stream",
          "text": [
            "tensor([[-105.4092,   43.1425],\n",
            "        [-118.5428,   43.1381],\n",
            "        [-151.3705,   90.8792],\n",
            "        [-148.7874,   47.2877],\n",
            "        [ -76.6363,   28.7033]], grad_fn=<AddBackward0>)\n"
          ],
          "name": "stdout"
        }
      ]
    },
    {
      "cell_type": "markdown",
      "metadata": {
        "id": "BgMsOKgsSYAi"
      },
      "source": [
        "Let's compare the predictions of our model with the actual targets."
      ]
    },
    {
      "cell_type": "code",
      "metadata": {
        "colab": {
          "base_uri": "https://localhost:8080/"
        },
        "id": "syYGhAraSYxl",
        "outputId": "6465d2bf-914c-46bd-be0c-9c4835d8d6d2"
      },
      "source": [
        "# Compare with targets\r\n",
        "print(targets)"
      ],
      "execution_count": null,
      "outputs": [
        {
          "output_type": "stream",
          "text": [
            "tensor([[ 56.,  70.],\n",
            "        [ 81., 101.],\n",
            "        [119., 133.],\n",
            "        [ 22.,  37.],\n",
            "        [103., 119.]])\n"
          ],
          "name": "stdout"
        }
      ]
    },
    {
      "cell_type": "markdown",
      "metadata": {
        "id": "OqODd3_8SdmD"
      },
      "source": [
        "You can see a big difference between our model's predictions and the actual targets because we've initialized our model with random weights and biases. Obviously, we can't expect a randomly initialized model to *just work*."
      ]
    },
    {
      "cell_type": "markdown",
      "metadata": {
        "id": "pDwuwzo6SgsV"
      },
      "source": [
        "# **Loss function**\r\n",
        "Before we improve our model, we need a way to evaluate how well our model is performing. We can compare the model's predictions with the actual targets using the following method:\r\n",
        "\r\n",
        "* Calculate the difference between the two matrices (`preds` and `targets`).\r\n",
        "* Square all elements of the difference matrix to remove negative values.\r\n",
        "* Calculate the average of the elements in the resulting matrix.\r\n",
        "The result is a single number, known as the **mean squared error (MSE)**."
      ]
    },
    {
      "cell_type": "code",
      "metadata": {
        "id": "Z4S7NXhfStrm"
      },
      "source": [
        "# MSE loss\r\n",
        "def mse(t1, t2):\r\n",
        "    diff = t1 - t2\r\n",
        "    return torch.sum(diff * diff) / diff.numel()"
      ],
      "execution_count": null,
      "outputs": []
    },
    {
      "cell_type": "markdown",
      "metadata": {
        "id": "ZLbdgAm1SyNh"
      },
      "source": [
        "`torch.sum` returns the sum of all the elements in a tensor. The `.numel` method of a tensor returns the number of elements in a tensor. Let's compute the mean squared error for the current predictions of our model."
      ]
    },
    {
      "cell_type": "code",
      "metadata": {
        "colab": {
          "base_uri": "https://localhost:8080/"
        },
        "id": "DNPQTzI6S3zR",
        "outputId": "f810bb47-36f7-48f4-8d15-d2124d69a225"
      },
      "source": [
        "# Compute loss\r\n",
        "loss = mse(preds, targets)\r\n",
        "print(loss)"
      ],
      "execution_count": null,
      "outputs": [
        {
          "output_type": "stream",
          "text": [
            "tensor(21451.0840, grad_fn=<DivBackward0>)\n"
          ],
          "name": "stdout"
        }
      ]
    },
    {
      "cell_type": "markdown",
      "metadata": {
        "id": "l0kJC1WFTFBH"
      },
      "source": [
        "Here’s how we can interpret the result: *On average, each element in the prediction differs from the actual target by the square root of the loss*. And that’s pretty bad, considering the numbers we are trying to predict are themselves in the range 50–200. The result is called the loss because it indicates how bad the model is at predicting the target variables. It represents information loss in the model: the lower the loss, the better the model."
      ]
    },
    {
      "cell_type": "markdown",
      "metadata": {
        "id": "etEgtXZGTJRJ"
      },
      "source": [
        "# **Compute gradients**\r\n",
        "With PyTorch, we can automatically compute the gradient or derivative of the loss w.r.t. to the weights and biases because they have `requires_grad` set to `True`. We'll see how this is useful in just a moment."
      ]
    },
    {
      "cell_type": "code",
      "metadata": {
        "id": "fcfUpH9KTP-b"
      },
      "source": [
        "# Compute gradients\r\n",
        "loss.backward()"
      ],
      "execution_count": null,
      "outputs": []
    },
    {
      "cell_type": "markdown",
      "metadata": {
        "id": "emhxac04TXaV"
      },
      "source": [
        "The gradients are stored in the `.grad` property of the respective tensors. Note that the derivative of the loss w.r.t. the weights matrix is itself a matrix with the same dimensions."
      ]
    },
    {
      "cell_type": "code",
      "metadata": {
        "colab": {
          "base_uri": "https://localhost:8080/"
        },
        "id": "BV8_kTC8TafC",
        "outputId": "c53e8c6b-95fd-4f2c-a125-f7d4244a5458"
      },
      "source": [
        "# Gradients for weights\r\n",
        "print(w)\r\n",
        "print(w.grad)"
      ],
      "execution_count": null,
      "outputs": [
        {
          "output_type": "stream",
          "text": [
            "tensor([[-1.7312, -0.6654,  1.5239],\n",
            "        [ 0.5984,  0.9049, -1.4181]], requires_grad=True)\n",
            "tensor([[-16655.7422, -17838.5547, -10857.2988],\n",
            "        [ -3214.3345,  -4152.3213,  -2648.2334]])\n"
          ],
          "name": "stdout"
        }
      ]
    },
    {
      "cell_type": "markdown",
      "metadata": {
        "id": "X49lCFVrT_sv"
      },
      "source": [
        "# **Adjust weights and biases to reduce the loss**\r\n",
        "The loss is a quadratic function of our weights and biases, and our objective is to find the set of weights where the loss is the lowest. We can plot a graph of the loss w.r.t any individual weight or bias element. An important insight from calculus is that the gradient indicates the rate of change of the loss, i.e., the loss function's slope w.r.t. the weights and biases.\r\n",
        "\r\n",
        "If a gradient element is positive:\r\n",
        "\r\n",
        "* **increasing** the weight element's value slightly will increase the loss\r\n",
        "* **decreasing** the weight element's value slightly will `decrease the loss`\r\n",
        "\r\n",
        "If a gradient element is negative:\r\n",
        "\r\n",
        "* **increasing** the weight element's value slightly will `decrease the loss`\r\n",
        "* **decreasing** the weight element's value slightly will increase the loss\r\n",
        "\r\n",
        "The increase or decrease in the loss by changing a weight element is proportional to the gradient of the loss w.r.t. that element. This observation forms the basis of the *gradient descent* optimization algorithm that we'll use to improve our model (by *descending* along the *gradient*).\r\n",
        "\r\n",
        "We can subtract from each weight element a small quantity proportional to the derivative of the loss w.r.t. that element to `reduce the loss slightly`."
      ]
    },
    {
      "cell_type": "code",
      "metadata": {
        "colab": {
          "base_uri": "https://localhost:8080/"
        },
        "id": "L2g6lHtuU62a",
        "outputId": "0e53817a-daa1-4c66-d30c-6ac3226c1251"
      },
      "source": [
        "w\r\n",
        "w.grad"
      ],
      "execution_count": null,
      "outputs": [
        {
          "output_type": "execute_result",
          "data": {
            "text/plain": [
              "tensor([[-16655.7422, -17838.5547, -10857.2988],\n",
              "        [ -3214.3345,  -4152.3213,  -2648.2334]])"
            ]
          },
          "metadata": {
            "tags": []
          },
          "execution_count": 17
        }
      ]
    },
    {
      "cell_type": "code",
      "metadata": {
        "id": "3V5GlN5PVFhD"
      },
      "source": [
        "with torch.no_grad():\r\n",
        "    w -= w.grad * 1e-5\r\n",
        "    b -= b.grad * 1e-5"
      ],
      "execution_count": null,
      "outputs": []
    },
    {
      "cell_type": "markdown",
      "metadata": {
        "id": "USIlli-OVGv6"
      },
      "source": [
        "We multiply the gradients with a very small number (`10^-5` in this case) to ensure that we don't modify the weights by a very large amount. We want to take a small step in the downhill direction of the gradient, not a giant leap. This number is called the *learning rate* of the algorithm.\r\n",
        "\r\n",
        "We use `torch.no_grad` to indicate to PyTorch that we shouldn't track, calculate, or modify gradients while updating the weights and biases."
      ]
    },
    {
      "cell_type": "code",
      "metadata": {
        "colab": {
          "base_uri": "https://localhost:8080/"
        },
        "id": "5XkNKkjoVTIu",
        "outputId": "376516e2-68c4-482b-c036-4c23d8ec3054"
      },
      "source": [
        "# Let's verify that the loss is actually lower\r\n",
        "loss = mse(preds, targets)\r\n",
        "print(loss)"
      ],
      "execution_count": null,
      "outputs": [
        {
          "output_type": "stream",
          "text": [
            "tensor(21451.0840, grad_fn=<DivBackward0>)\n"
          ],
          "name": "stdout"
        }
      ]
    },
    {
      "cell_type": "markdown",
      "metadata": {
        "id": "haMO0tFAVkM3"
      },
      "source": [
        "Before we proceed, we reset the gradients to zero by invoking the `.zero_()` method. We need to do this because PyTorch accumulates gradients. Otherwise, the next time we invoke `.backward` on the loss, the new gradient values are added to the existing gradients, which may lead to unexpected results."
      ]
    },
    {
      "cell_type": "code",
      "metadata": {
        "colab": {
          "base_uri": "https://localhost:8080/"
        },
        "id": "-cN2rUuNVqTC",
        "outputId": "16a85dd0-8006-4a74-d6d1-4ba58c033375"
      },
      "source": [
        "w.grad.zero_()\r\n",
        "b.grad.zero_()\r\n",
        "print(w.grad)\r\n",
        "print(b.grad)"
      ],
      "execution_count": null,
      "outputs": [
        {
          "output_type": "stream",
          "text": [
            "tensor([[0., 0., 0.],\n",
            "        [0., 0., 0.]])\n",
            "tensor([0., 0.])\n"
          ],
          "name": "stdout"
        }
      ]
    },
    {
      "cell_type": "markdown",
      "metadata": {
        "id": "GWAKEwdZXkv4"
      },
      "source": [
        "# **Train the model using gradient descent**\r\n",
        "\r\n",
        "As seen above, we reduce the loss and improve our model using the gradient descent optimization algorithm. Thus, we can *train* the model using the following steps:\r\n",
        "\r\n",
        "1. Generate predictions\r\n",
        "\r\n",
        "2. Calculate the loss\r\n",
        "\r\n",
        "3. Compute gradients w.r.t the weights and biases\r\n",
        "\r\n",
        "4. Adjust the weights by subtracting a small quantity proportional to the gradient\r\n",
        "\r\n",
        "5. Reset the gradients to zero\r\n",
        "\r\n",
        "Let's implement the above step by step."
      ]
    },
    {
      "cell_type": "code",
      "metadata": {
        "colab": {
          "base_uri": "https://localhost:8080/"
        },
        "id": "Dmoa-troXzwD",
        "outputId": "8a88f673-a8ac-4ca8-f0f6-4d727575765c"
      },
      "source": [
        "# Generate predictions\r\n",
        "preds = model(inputs)\r\n",
        "print(preds)"
      ],
      "execution_count": null,
      "outputs": [
        {
          "output_type": "stream",
          "text": [
            "tensor([[ -76.6281,   49.4102],\n",
            "        [ -80.7375,   51.4125],\n",
            "        [-106.6772,  100.7761],\n",
            "        [-120.1088,   53.3321],\n",
            "        [ -40.4167,   36.7616]], grad_fn=<AddBackward0>)\n"
          ],
          "name": "stdout"
        }
      ]
    },
    {
      "cell_type": "code",
      "metadata": {
        "colab": {
          "base_uri": "https://localhost:8080/"
        },
        "id": "28oB5VpuX3qF",
        "outputId": "ad1db17d-dd4f-4519-e8b9-705002e1d7e3"
      },
      "source": [
        "# Calculate the loss\r\n",
        "loss = mse(preds, targets)\r\n",
        "print(loss)"
      ],
      "execution_count": null,
      "outputs": [
        {
          "output_type": "stream",
          "text": [
            "tensor(14639.3809, grad_fn=<DivBackward0>)\n"
          ],
          "name": "stdout"
        }
      ]
    },
    {
      "cell_type": "code",
      "metadata": {
        "colab": {
          "base_uri": "https://localhost:8080/"
        },
        "id": "GluDkt4BX8MA",
        "outputId": "17bba338-5fe5-4184-e164-0ecad02a291a"
      },
      "source": [
        "# Compute gradients\r\n",
        "loss.backward()\r\n",
        "print(w.grad)\r\n",
        "print(b.grad)"
      ],
      "execution_count": null,
      "outputs": [
        {
          "output_type": "stream",
          "text": [
            "tensor([[-13684.9453, -14647.6816,  -8888.1357],\n",
            "        [ -2565.5156,  -3450.7656,  -2216.0703]])\n",
            "tensor([-161.1137,  -33.6615])\n"
          ],
          "name": "stdout"
        }
      ]
    },
    {
      "cell_type": "markdown",
      "metadata": {
        "id": "_swv_hlnX_Vl"
      },
      "source": [
        "Let's update the weights and biases using the gradients computed above."
      ]
    },
    {
      "cell_type": "code",
      "metadata": {
        "id": "ZbW-sZ9QYA7F"
      },
      "source": [
        "# Adjust weights & reset gradients\r\n",
        "with torch.no_grad():\r\n",
        "    w -= w.grad * 1e-5\r\n",
        "    b -= b.grad * 1e-5\r\n",
        "    w.grad.zero_()\r\n",
        "    b.grad.zero_()"
      ],
      "execution_count": null,
      "outputs": []
    },
    {
      "cell_type": "markdown",
      "metadata": {
        "id": "ENWC4eTAYFZS"
      },
      "source": [
        "Let's take a look at the new weights and biases."
      ]
    },
    {
      "cell_type": "code",
      "metadata": {
        "colab": {
          "base_uri": "https://localhost:8080/"
        },
        "id": "ena5JIMIYGMQ",
        "outputId": "fe8adb40-81c3-48f5-fd52-d46ab66ef185"
      },
      "source": [
        "print(w)\r\n",
        "print(b)"
      ],
      "execution_count": null,
      "outputs": [
        {
          "output_type": "stream",
          "text": [
            "tensor([[-1.4278, -0.3406,  1.7214],\n",
            "        [ 0.6562,  0.9810, -1.3694]], requires_grad=True)\n",
            "tensor([ 0.0275, -0.1953], requires_grad=True)\n"
          ],
          "name": "stdout"
        }
      ]
    },
    {
      "cell_type": "code",
      "metadata": {
        "colab": {
          "base_uri": "https://localhost:8080/"
        },
        "id": "Pps5nSzXYMYi",
        "outputId": "70af6b0b-8c56-40f2-eea5-38e685d724ff"
      },
      "source": [
        "# Calculate loss\r\n",
        "preds = model(inputs)\r\n",
        "loss = mse(preds, targets)\r\n",
        "print(loss)"
      ],
      "execution_count": null,
      "outputs": [
        {
          "output_type": "stream",
          "text": [
            "tensor(10048.0674, grad_fn=<DivBackward0>)\n"
          ],
          "name": "stdout"
        }
      ]
    },
    {
      "cell_type": "markdown",
      "metadata": {
        "id": "9MfygyB5YSNM"
      },
      "source": [
        "We have already achieved a significant reduction in the loss merely by adjusting the weights and biases slightly using gradient descent."
      ]
    },
    {
      "cell_type": "markdown",
      "metadata": {
        "id": "EaWtL9frYUyu"
      },
      "source": [
        "# **Train for multiple epochs**\r\n",
        "To reduce the loss further, we can repeat the process of adjusting the weights and biases using the gradients multiple times. Each iteration is called an *epoch*. Let's train the model for 1000 epochs."
      ]
    },
    {
      "cell_type": "code",
      "metadata": {
        "id": "G43Qco0CYgBy"
      },
      "source": [
        "# Train for 1000 epochs\r\n",
        "# 1e-5 is the learning rate\r\n",
        "for i in range(1000):\r\n",
        "    preds = model(inputs)\r\n",
        "    loss = mse(preds, targets)\r\n",
        "    loss.backward()\r\n",
        "    with torch.no_grad():\r\n",
        "        w -= w.grad * 1e-5\r\n",
        "        b -= b.grad * 1e-5\r\n",
        "        w.grad.zero_()\r\n",
        "        b.grad.zero_()"
      ],
      "execution_count": null,
      "outputs": []
    },
    {
      "cell_type": "markdown",
      "metadata": {
        "id": "VD_q0pv6YmHf"
      },
      "source": [
        "Once again, let's verify that the loss is now lower:"
      ]
    },
    {
      "cell_type": "code",
      "metadata": {
        "colab": {
          "base_uri": "https://localhost:8080/"
        },
        "id": "CO0hvl4GYnD1",
        "outputId": "7878976b-fde5-458f-fc04-32322263c061"
      },
      "source": [
        "# Calculate loss\r\n",
        "preds = model(inputs)\r\n",
        "loss = mse(preds, targets)\r\n",
        "print(loss)"
      ],
      "execution_count": null,
      "outputs": [
        {
          "output_type": "stream",
          "text": [
            "tensor(48.5231, grad_fn=<DivBackward0>)\n"
          ],
          "name": "stdout"
        }
      ]
    },
    {
      "cell_type": "markdown",
      "metadata": {
        "id": "fVMJ1gFlYsmu"
      },
      "source": [
        "The loss is now much lower than its initial value. Let's look at the model's predictions and compare them with the targets."
      ]
    },
    {
      "cell_type": "code",
      "metadata": {
        "colab": {
          "base_uri": "https://localhost:8080/"
        },
        "id": "-F6Lu4LvYtTR",
        "outputId": "3b3be916-75a9-4edc-e676-224eb9715549"
      },
      "source": [
        "# Predictions\r\n",
        "preds"
      ],
      "execution_count": null,
      "outputs": [
        {
          "output_type": "execute_result",
          "data": {
            "text/plain": [
              "tensor([[ 56.7075,  70.9654],\n",
              "        [ 86.0831,  94.9620],\n",
              "        [110.6132, 144.8850],\n",
              "        [ 18.8141,  40.3966],\n",
              "        [109.9928, 107.1964]], grad_fn=<AddBackward0>)"
            ]
          },
          "metadata": {
            "tags": []
          },
          "execution_count": 33
        }
      ]
    },
    {
      "cell_type": "code",
      "metadata": {
        "colab": {
          "base_uri": "https://localhost:8080/"
        },
        "id": "uS6eO-gHYxKB",
        "outputId": "69750039-5703-4530-d052-0d5a74c8ff1c"
      },
      "source": [
        "# Targets\r\n",
        "targets"
      ],
      "execution_count": null,
      "outputs": [
        {
          "output_type": "execute_result",
          "data": {
            "text/plain": [
              "tensor([[ 56.,  70.],\n",
              "        [ 81., 101.],\n",
              "        [119., 133.],\n",
              "        [ 22.,  37.],\n",
              "        [103., 119.]])"
            ]
          },
          "metadata": {
            "tags": []
          },
          "execution_count": 34
        }
      ]
    },
    {
      "cell_type": "markdown",
      "metadata": {
        "id": "mjHFyTu9Y0wm"
      },
      "source": [
        "The predictions are now quite close to the target variables. We can get even better results by training for a few more epochs."
      ]
    },
    {
      "cell_type": "markdown",
      "metadata": {
        "id": "EsIQyn7tZMO2"
      },
      "source": [
        "# **Linear regression using PyTorch built-ins**\r\n",
        "We've implemented linear regression & gradient descent model using some basic tensor operations. However, since this is a common pattern in deep learning, PyTorch provides several built-in functions and classes to make it easy to create and train models with just a few lines of code.\r\n",
        "\r\n",
        "Let's begin by importing the `torch.nn` package from PyTorch, which contains utility classes for building neural networks."
      ]
    },
    {
      "cell_type": "code",
      "metadata": {
        "id": "sjNVTQmYY3KJ"
      },
      "source": [
        "import torch.nn as nn"
      ],
      "execution_count": null,
      "outputs": []
    },
    {
      "cell_type": "markdown",
      "metadata": {
        "id": "o-fjGTzaZV-A"
      },
      "source": [
        "As before, we represent the inputs and targets and matrices."
      ]
    },
    {
      "cell_type": "code",
      "metadata": {
        "id": "Stze2WVZZYlb"
      },
      "source": [
        "# Input (temp, rainfall, humidity)\r\n",
        "inputs = np.array([[73, 67, 43], \r\n",
        "                   [91, 88, 64], \r\n",
        "                   [87, 134, 58], \r\n",
        "                   [102, 43, 37], \r\n",
        "                   [69, 96, 70], \r\n",
        "                   [74, 66, 43], \r\n",
        "                   [91, 87, 65], \r\n",
        "                   [88, 134, 59], \r\n",
        "                   [101, 44, 37], \r\n",
        "                   [68, 96, 71], \r\n",
        "                   [73, 66, 44], \r\n",
        "                   [92, 87, 64], \r\n",
        "                   [87, 135, 57], \r\n",
        "                   [103, 43, 36], \r\n",
        "                   [68, 97, 70]], \r\n",
        "                  dtype='float32')\r\n",
        "\r\n",
        "# Targets (apples, oranges)\r\n",
        "targets = np.array([[56, 70], \r\n",
        "                    [81, 101], \r\n",
        "                    [119, 133], \r\n",
        "                    [22, 37], \r\n",
        "                    [103, 119],\r\n",
        "                    [57, 69], \r\n",
        "                    [80, 102], \r\n",
        "                    [118, 132], \r\n",
        "                    [21, 38], \r\n",
        "                    [104, 118], \r\n",
        "                    [57, 69], \r\n",
        "                    [82, 100], \r\n",
        "                    [118, 134], \r\n",
        "                    [20, 38], \r\n",
        "                    [102, 120]], \r\n",
        "                   dtype='float32')\r\n",
        "\r\n",
        "inputs = torch.from_numpy(inputs)\r\n",
        "targets = torch.from_numpy(targets)"
      ],
      "execution_count": null,
      "outputs": []
    },
    {
      "cell_type": "code",
      "metadata": {
        "colab": {
          "base_uri": "https://localhost:8080/"
        },
        "id": "xQZQM9tfn0aw",
        "outputId": "eccb6475-030c-469f-a556-334ee197cf86"
      },
      "source": [
        "inputs"
      ],
      "execution_count": null,
      "outputs": [
        {
          "output_type": "execute_result",
          "data": {
            "text/plain": [
              "tensor([[ 73.,  67.,  43.],\n",
              "        [ 91.,  88.,  64.],\n",
              "        [ 87., 134.,  58.],\n",
              "        [102.,  43.,  37.],\n",
              "        [ 69.,  96.,  70.],\n",
              "        [ 74.,  66.,  43.],\n",
              "        [ 91.,  87.,  65.],\n",
              "        [ 88., 134.,  59.],\n",
              "        [101.,  44.,  37.],\n",
              "        [ 68.,  96.,  71.],\n",
              "        [ 73.,  66.,  44.],\n",
              "        [ 92.,  87.,  64.],\n",
              "        [ 87., 135.,  57.],\n",
              "        [103.,  43.,  36.],\n",
              "        [ 68.,  97.,  70.]])"
            ]
          },
          "metadata": {
            "tags": []
          },
          "execution_count": 38
        }
      ]
    },
    {
      "cell_type": "markdown",
      "metadata": {
        "id": "qsmFz488n3TK"
      },
      "source": [
        "We are using 15 training examples to illustrate how to work with large datasets in small batches."
      ]
    },
    {
      "cell_type": "markdown",
      "metadata": {
        "id": "S--5x1G4n4Hw"
      },
      "source": [
        "# **Dataset and DataLoader**\r\n",
        "We'll create a `TensorDataset`, which allows access to rows from `inputs` and `targets` as tuples, and provides standard APIs for working with many different types of datasets in PyTorch."
      ]
    },
    {
      "cell_type": "code",
      "metadata": {
        "id": "uU9QoU16oCKc"
      },
      "source": [
        "from torch.utils.data import TensorDataset"
      ],
      "execution_count": null,
      "outputs": []
    },
    {
      "cell_type": "code",
      "metadata": {
        "colab": {
          "base_uri": "https://localhost:8080/"
        },
        "id": "n0c9QDa84tff",
        "outputId": "44faa9e4-54cb-43af-f529-ea14fa9df769"
      },
      "source": [
        "# Define dataset\r\n",
        "train_ds = TensorDataset(inputs, targets)\r\n",
        "train_ds[0:3]"
      ],
      "execution_count": null,
      "outputs": [
        {
          "output_type": "execute_result",
          "data": {
            "text/plain": [
              "(tensor([[ 73.,  67.,  43.],\n",
              "         [ 91.,  88.,  64.],\n",
              "         [ 87., 134.,  58.]]), tensor([[ 56.,  70.],\n",
              "         [ 81., 101.],\n",
              "         [119., 133.]]))"
            ]
          },
          "metadata": {
            "tags": []
          },
          "execution_count": 41
        }
      ]
    },
    {
      "cell_type": "markdown",
      "metadata": {
        "id": "9dRAfyrp5Rb1"
      },
      "source": [
        "The `TensorDataset` allows us to access a small section of the training data using the array indexing notation (`[0:3]` in the above code). It returns a tuple with two elements. The first element contains the input variables for the selected rows, and the second contains the targets."
      ]
    },
    {
      "cell_type": "markdown",
      "metadata": {
        "id": "_Au1Z4DY5coc"
      },
      "source": [
        "We'll also create a `DataLoader`, which can split the data into batches of a predefined size while training. It also provides other utilities like shuffling and random sampling of the data."
      ]
    },
    {
      "cell_type": "code",
      "metadata": {
        "id": "1X-p0oFf5gYJ"
      },
      "source": [
        "from torch.utils.data import DataLoader"
      ],
      "execution_count": null,
      "outputs": []
    },
    {
      "cell_type": "code",
      "metadata": {
        "id": "Y0LCgKsV5kIv"
      },
      "source": [
        "# Define data loader\r\n",
        "batch_size = 5\r\n",
        "train_dl = DataLoader(train_ds, batch_size, shuffle=True)"
      ],
      "execution_count": null,
      "outputs": []
    },
    {
      "cell_type": "markdown",
      "metadata": {
        "id": "oTbn_F8t5xrQ"
      },
      "source": [
        "We can use the data loader in a `for` loop. Let's look at an example."
      ]
    },
    {
      "cell_type": "code",
      "metadata": {
        "colab": {
          "base_uri": "https://localhost:8080/"
        },
        "id": "uMzIdhRd5zjW",
        "outputId": "67cf0b17-7af4-4752-a075-5d6ead39be8e"
      },
      "source": [
        "for xb, yb in train_dl:\r\n",
        "    print(xb)\r\n",
        "    print(yb)\r\n",
        "    break"
      ],
      "execution_count": null,
      "outputs": [
        {
          "output_type": "stream",
          "text": [
            "tensor([[101.,  44.,  37.],\n",
            "        [ 69.,  96.,  70.],\n",
            "        [ 74.,  66.,  43.],\n",
            "        [ 91.,  87.,  65.],\n",
            "        [103.,  43.,  36.]])\n",
            "tensor([[ 21.,  38.],\n",
            "        [103., 119.],\n",
            "        [ 57.,  69.],\n",
            "        [ 80., 102.],\n",
            "        [ 20.,  38.]])\n"
          ],
          "name": "stdout"
        }
      ]
    },
    {
      "cell_type": "markdown",
      "metadata": {
        "id": "fbni-Zjy59H-"
      },
      "source": [
        "In each iteration, the data loader returns one batch of data with the given batch size. If `shuffle` is set to `True`, it shuffles the training data before creating batches. Shuffling helps randomize the input to the optimization algorithm, leading to a faster reduction in the loss."
      ]
    },
    {
      "cell_type": "markdown",
      "metadata": {
        "id": "Z0evoFsN6A5p"
      },
      "source": [
        "# **nn.Linear**\r\n",
        "Instead of initializing the weights & biases manually, we can define the model using the `nn.Linear` class from PyTorch, which does it automatically."
      ]
    },
    {
      "cell_type": "code",
      "metadata": {
        "colab": {
          "base_uri": "https://localhost:8080/"
        },
        "id": "VcFzk5VW6JOV",
        "outputId": "a86f310a-2843-4f8e-c8b6-22840c9d59f5"
      },
      "source": [
        "# Define model\r\n",
        "# nn.Linear(number of inputs, number of outputs)\r\n",
        "model = nn.Linear(3, 2)\r\n",
        "print(model.weight)\r\n",
        "print(model.bias)"
      ],
      "execution_count": null,
      "outputs": [
        {
          "output_type": "stream",
          "text": [
            "Parameter containing:\n",
            "tensor([[-0.0881, -0.1026, -0.0393],\n",
            "        [ 0.1207, -0.1540, -0.1184]], requires_grad=True)\n",
            "Parameter containing:\n",
            "tensor([0.5292, 0.0443], requires_grad=True)\n"
          ],
          "name": "stdout"
        }
      ]
    },
    {
      "cell_type": "markdown",
      "metadata": {
        "id": "cveGGZ6y6YO-"
      },
      "source": [
        "PyTorch models also have a helpful `.parameters` method, which returns a list containing all the weights and bias matrices present in the model. For our linear regression model, we have one weight matrix and one bias matrix."
      ]
    },
    {
      "cell_type": "code",
      "metadata": {
        "colab": {
          "base_uri": "https://localhost:8080/"
        },
        "id": "gb9U2xsj6bsP",
        "outputId": "9d5c94d3-b40c-4ada-9c7a-50f25091e27f"
      },
      "source": [
        "# Parameters\r\n",
        "list(model.parameters())"
      ],
      "execution_count": null,
      "outputs": [
        {
          "output_type": "execute_result",
          "data": {
            "text/plain": [
              "[Parameter containing:\n",
              " tensor([[-0.0881, -0.1026, -0.0393],\n",
              "         [ 0.1207, -0.1540, -0.1184]], requires_grad=True),\n",
              " Parameter containing:\n",
              " tensor([0.5292, 0.0443], requires_grad=True)]"
            ]
          },
          "metadata": {
            "tags": []
          },
          "execution_count": 46
        }
      ]
    },
    {
      "cell_type": "markdown",
      "metadata": {
        "id": "Veb4MArY6e0z"
      },
      "source": [
        "We can use the model to generate predictions in the same way as before."
      ]
    },
    {
      "cell_type": "code",
      "metadata": {
        "colab": {
          "base_uri": "https://localhost:8080/"
        },
        "id": "GvtIJgBB6guh",
        "outputId": "9650ae49-636c-4041-e8ad-84dface7e2b3"
      },
      "source": [
        "# Generate predictions\r\n",
        "preds = model(inputs)\r\n",
        "preds"
      ],
      "execution_count": null,
      "outputs": [
        {
          "output_type": "execute_result",
          "data": {
            "text/plain": [
              "tensor([[-14.4645,  -6.5559],\n",
              "        [-19.0300, -10.1041],\n",
              "        [-23.1608, -16.9620],\n",
              "        [-14.3207,   1.3511],\n",
              "        [-18.1490, -14.7018],\n",
              "        [-14.4500,  -6.2812],\n",
              "        [-18.9668, -10.0685],\n",
              "        [-23.2882, -16.9597],\n",
              "        [-14.3352,   1.0764],\n",
              "        [-18.1003, -14.9408],\n",
              "        [-14.4013,  -6.5202],\n",
              "        [-19.0155,  -9.8294],\n",
              "        [-23.2241, -16.9977],\n",
              "        [-14.3694,   1.5902],\n",
              "        [-18.1635, -14.9765]], grad_fn=<AddmmBackward>)"
            ]
          },
          "metadata": {
            "tags": []
          },
          "execution_count": 47
        }
      ]
    },
    {
      "cell_type": "markdown",
      "metadata": {
        "id": "sRn5Fgmn6lcz"
      },
      "source": [
        "# **Loss Function**\r\n",
        "Instead of defining a loss function manually, we can use the built-in loss function `mse_loss`."
      ]
    },
    {
      "cell_type": "code",
      "metadata": {
        "id": "3TWfwF0L6oxp"
      },
      "source": [
        "# Import nn.functional\r\n",
        "import torch.nn.functional as F"
      ],
      "execution_count": null,
      "outputs": []
    },
    {
      "cell_type": "code",
      "metadata": {
        "id": "fD_PbnjY6tCV"
      },
      "source": [
        "# Define loss function\r\n",
        "loss_fn = F.mse_loss"
      ],
      "execution_count": null,
      "outputs": []
    },
    {
      "cell_type": "markdown",
      "metadata": {
        "id": "VNCYvfQM6vk9"
      },
      "source": [
        "Let's compute the loss for the current predictions of our model."
      ]
    },
    {
      "cell_type": "code",
      "metadata": {
        "colab": {
          "base_uri": "https://localhost:8080/"
        },
        "id": "aFQKOFlk6wol",
        "outputId": "f6ba5793-74e2-40e4-ef4e-89e465c5f73f"
      },
      "source": [
        "loss = loss_fn(model(inputs), targets)\r\n",
        "print(loss)"
      ],
      "execution_count": null,
      "outputs": [
        {
          "output_type": "stream",
          "text": [
            "tensor(11082.2139, grad_fn=<MseLossBackward>)\n"
          ],
          "name": "stdout"
        }
      ]
    },
    {
      "cell_type": "markdown",
      "metadata": {
        "id": "YDp-aj8167zm"
      },
      "source": [
        "# **Optimizer**\r\n",
        "Instead of manually manipulating the model's weights & biases using gradients, we can use the optimizer `optim.SGD`. SGD is short for \"stochastic gradient descent\". The term *stochastic* indicates that samples are selected in random batches instead of as a single group."
      ]
    },
    {
      "cell_type": "code",
      "metadata": {
        "id": "-kHYEGnn7DWE"
      },
      "source": [
        "# Define optimizer\r\n",
        "opt = torch.optim.SGD(model.parameters(), lr=1e-5)"
      ],
      "execution_count": null,
      "outputs": []
    },
    {
      "cell_type": "markdown",
      "metadata": {
        "id": "Cw_OB9j47KwP"
      },
      "source": [
        "Note that `model.parameters()` is passed as an argument to `optim.SGD` so that the optimizer knows which matrices should be modified during the update step. Also, we can specify a learning rate that controls the amount by which the parameters are modified."
      ]
    },
    {
      "cell_type": "markdown",
      "metadata": {
        "id": "xSlei0Iq7PPA"
      },
      "source": [
        "# **Train the model**\r\n",
        "We are now ready to train the model. We'll follow the same process to implement gradient descent:\r\n",
        "\r\n",
        "1. Generate predictions\r\n",
        "\r\n",
        "2. Calculate the loss\r\n",
        "\r\n",
        "3. Compute gradients w.r.t the weights and biases\r\n",
        "\r\n",
        "4. Adjust the weights by subtracting a small quantity proportional to the gradient\r\n",
        "\r\n",
        "5. Reset the gradients to zero\r\n",
        "\r\n",
        "The only change is that we'll work batches of data instead of processing the entire training data in every iteration. Let's define a utility function `fit` that trains the model for a given number of epochs."
      ]
    },
    {
      "cell_type": "code",
      "metadata": {
        "id": "q_zgoxLy7mXN"
      },
      "source": [
        "# Utility function to train the model\r\n",
        "def fit(num_epochs, model, loss_fn, opt, train_dl):\r\n",
        "    \r\n",
        "    # Repeat for given number of epochs\r\n",
        "    for epoch in range(num_epochs):\r\n",
        "        \r\n",
        "        # Train with batches of data\r\n",
        "        for xb,yb in train_dl:\r\n",
        "            \r\n",
        "            # 1. Generate predictions\r\n",
        "            pred = model(xb)\r\n",
        "            \r\n",
        "            # 2. Calculate loss\r\n",
        "            loss = loss_fn(pred, yb)\r\n",
        "            \r\n",
        "            # 3. Compute gradients\r\n",
        "            loss.backward()\r\n",
        "            \r\n",
        "            # 4. Update parameters using gradients\r\n",
        "            opt.step()\r\n",
        "            \r\n",
        "            # 5. Reset the gradients to zero\r\n",
        "            opt.zero_grad()\r\n",
        "        \r\n",
        "        # Print the progress\r\n",
        "        if (epoch+1) % 10 == 0:\r\n",
        "            print('Epoch [{}/{}], Loss: {:.4f}'.format(epoch+1, num_epochs, loss.item()))"
      ],
      "execution_count": null,
      "outputs": []
    },
    {
      "cell_type": "markdown",
      "metadata": {
        "id": "-88bRX6c8M4h"
      },
      "source": [
        "Some things to note above:\r\n",
        "\r\n",
        "* We use the data loader defined earlier to get batches of data for every iteration.\r\n",
        "\r\n",
        "* Instead of updating parameters (weights and biases) manually, we use `opt.step` to perform the update and `opt.zero_grad` to reset the gradients to zero.\r\n",
        "\r\n",
        "* We've also added a log statement that prints the loss from the last batch of data for every 10th epoch to track training progress. `loss.item` returns the actual value stored in the loss tensor.\r\n",
        "\r\n",
        "Let's train the model for 100 epochs."
      ]
    },
    {
      "cell_type": "code",
      "metadata": {
        "colab": {
          "base_uri": "https://localhost:8080/"
        },
        "id": "RuQ2Xmuj8UlT",
        "outputId": "a49ed68e-a5c5-48d0-9958-ee9121da5176"
      },
      "source": [
        "fit(100, model, loss_fn, opt, train_dl)"
      ],
      "execution_count": null,
      "outputs": [
        {
          "output_type": "stream",
          "text": [
            "Epoch [10/100], Loss: 260.2631\n",
            "Epoch [20/100], Loss: 285.0681\n",
            "Epoch [30/100], Loss: 357.1197\n",
            "Epoch [40/100], Loss: 112.7708\n",
            "Epoch [50/100], Loss: 144.7216\n",
            "Epoch [60/100], Loss: 107.9705\n",
            "Epoch [70/100], Loss: 82.4631\n",
            "Epoch [80/100], Loss: 61.5533\n",
            "Epoch [90/100], Loss: 21.5272\n",
            "Epoch [100/100], Loss: 49.7432\n"
          ],
          "name": "stdout"
        }
      ]
    },
    {
      "cell_type": "markdown",
      "metadata": {
        "id": "i94a3stb8g3p"
      },
      "source": [
        "Let's generate predictions using our model and verify that they're close to our targets."
      ]
    },
    {
      "cell_type": "code",
      "metadata": {
        "colab": {
          "base_uri": "https://localhost:8080/"
        },
        "id": "AUXB6L_88h-S",
        "outputId": "679fab98-8371-44da-b49e-382426754a35"
      },
      "source": [
        "# Generate predictions\r\n",
        "preds = model(inputs)\r\n",
        "preds"
      ],
      "execution_count": null,
      "outputs": [
        {
          "output_type": "execute_result",
          "data": {
            "text/plain": [
              "tensor([[ 58.1694,  71.7315],\n",
              "        [ 80.5952,  97.8158],\n",
              "        [118.7025, 135.7221],\n",
              "        [ 27.7937,  45.9979],\n",
              "        [ 95.4522, 109.0437],\n",
              "        [ 57.0601,  70.7829],\n",
              "        [ 80.1525,  97.3741],\n",
              "        [118.8735, 136.0796],\n",
              "        [ 28.9031,  46.9466],\n",
              "        [ 96.1188, 109.5506],\n",
              "        [ 57.7267,  71.2898],\n",
              "        [ 79.4859,  96.8672],\n",
              "        [119.1451, 136.1638],\n",
              "        [ 27.1271,  45.4911],\n",
              "        [ 96.5615, 109.9923]], grad_fn=<AddmmBackward>)"
            ]
          },
          "metadata": {
            "tags": []
          },
          "execution_count": 54
        }
      ]
    },
    {
      "cell_type": "code",
      "metadata": {
        "colab": {
          "base_uri": "https://localhost:8080/"
        },
        "id": "jb00W6728nXr",
        "outputId": "cf5d3e1c-c87b-4cb6-ff04-f6572ef03644"
      },
      "source": [
        "# Compare with targets\r\n",
        "targets"
      ],
      "execution_count": null,
      "outputs": [
        {
          "output_type": "execute_result",
          "data": {
            "text/plain": [
              "tensor([[ 56.,  70.],\n",
              "        [ 81., 101.],\n",
              "        [119., 133.],\n",
              "        [ 22.,  37.],\n",
              "        [103., 119.],\n",
              "        [ 57.,  69.],\n",
              "        [ 80., 102.],\n",
              "        [118., 132.],\n",
              "        [ 21.,  38.],\n",
              "        [104., 118.],\n",
              "        [ 57.,  69.],\n",
              "        [ 82., 100.],\n",
              "        [118., 134.],\n",
              "        [ 20.,  38.],\n",
              "        [102., 120.]])"
            ]
          },
          "metadata": {
            "tags": []
          },
          "execution_count": 55
        }
      ]
    },
    {
      "cell_type": "markdown",
      "metadata": {
        "id": "qwuyTlwk8rbj"
      },
      "source": [
        "Indeed, the predictions are quite close to our targets. We have a trained a reasonably good model to predict crop yields for apples and oranges by looking at the average temperature, rainfall, and humidity in a region. We can use it to make predictions of crop yields for new regions by passing a batch containing a single row of input."
      ]
    },
    {
      "cell_type": "code",
      "metadata": {
        "colab": {
          "base_uri": "https://localhost:8080/"
        },
        "id": "EMPaIViq8sx3",
        "outputId": "43b2d149-9789-4090-f9be-852252bbf245"
      },
      "source": [
        "model(torch.tensor([[75, 63, 44.]]))"
      ],
      "execution_count": null,
      "outputs": [
        {
          "output_type": "execute_result",
          "data": {
            "text/plain": [
              "tensor([[54.6466, 68.5186]], grad_fn=<AddmmBackward>)"
            ]
          },
          "metadata": {
            "tags": []
          },
          "execution_count": 56
        }
      ]
    }
  ]
}