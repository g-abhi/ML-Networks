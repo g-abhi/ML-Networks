{
  "nbformat": 4,
  "nbformat_minor": 0,
  "metadata": {
    "colab": {
      "name": "00-numpy-basics.ipynb",
      "provenance": [],
      "collapsed_sections": []
    },
    "kernelspec": {
      "name": "python3",
      "display_name": "Python 3"
    }
  },
  "cells": [
    {
      "cell_type": "markdown",
      "metadata": {
        "id": "oBEUV3FbIUeI"
      },
      "source": [
        "# **Numpy Basics: Arrays & Operations**\r\n",
        "*   Introductions to Numpy Arrays\r\n",
        "*   Vectors, Matrices, n-Dimensional Arrays\r\n",
        "*   Numpy operations\r\n",
        "*   How to use the Numpy documentation site\r\n",
        "\r\n",
        "\r\n"
      ]
    },
    {
      "cell_type": "code",
      "metadata": {
        "id": "p95B0zzlHYcf"
      },
      "source": [
        "import numpy as np"
      ],
      "execution_count": null,
      "outputs": []
    },
    {
      "cell_type": "markdown",
      "metadata": {
        "id": "F_pNKs4nIsQB"
      },
      "source": [
        "# **Numpy Arrays**\r\n",
        "Numpy provides a simple way to create and work with matrices, in the form ndarrays (n-dimensional arrays). We can use ndarrays to represent vectors, matrices, or even tensors (higher dimensional matrices). In order to implement a Neural Network, we will learn the basics of ndarrays to perform convenient matrix operations. We'll start by creating a simple array."
      ]
    },
    {
      "cell_type": "code",
      "metadata": {
        "colab": {
          "base_uri": "https://localhost:8080/"
        },
        "id": "JRO2dIIPJC-3",
        "outputId": "299ad763-f3ae-42c8-d2af-782181c92941"
      },
      "source": [
        "A = np.array([1, 2, 3, 4])\r\n",
        "\r\n",
        "print(A)"
      ],
      "execution_count": null,
      "outputs": [
        {
          "output_type": "stream",
          "text": [
            "[1 2 3 4]\n"
          ],
          "name": "stdout"
        }
      ]
    },
    {
      "cell_type": "markdown",
      "metadata": {
        "id": "FZiWUAcfJKUs"
      },
      "source": [
        "We can think of ndarrays similarly to the way we think of matrices or vectors."
      ]
    },
    {
      "cell_type": "code",
      "metadata": {
        "colab": {
          "base_uri": "https://localhost:8080/"
        },
        "id": "9XxTpc1BJLvG",
        "outputId": "58105bd2-3a02-4fba-b574-2e3b957f930a"
      },
      "source": [
        "# We can find the dimensions of A like so:\r\n",
        "dim_A = A.shape\r\n",
        "\r\n",
        "print(\"Dimensions of A: \" + str(dim_A))"
      ],
      "execution_count": null,
      "outputs": [
        {
          "output_type": "stream",
          "text": [
            "Dimensions of A: (4,)\n"
          ],
          "name": "stdout"
        }
      ]
    },
    {
      "cell_type": "markdown",
      "metadata": {
        "id": "CXrK50FRJW-H"
      },
      "source": [
        "As it turns out, A is neither 1 x 4 or 4 x 1. Instead, it is a one-dimensional array, or flattened array, of dimenson 4. Whenever we want to represent vectors in Numpy, we will use one-dimensional arrays. For operations like matrix multiplication, a one-dimensional array can fulfill the role of either a 4 x 1 or 1 x 4 matrix, so they are quite versatile.\r\n",
        "\r\n",
        "You can index into one-dimensional arrays to grab individual indices or slices. You can also modify entries of arrays:"
      ]
    },
    {
      "cell_type": "code",
      "metadata": {
        "colab": {
          "base_uri": "https://localhost:8080/"
        },
        "id": "vl_hDXeBJXwJ",
        "outputId": "193bd776-6fab-4a55-ebaf-a8243578ae90"
      },
      "source": [
        "x = A[0]\r\n",
        "print(x)\r\n",
        "\r\n",
        "a_slice = A[1:3]\r\n",
        "print(a_slice)\r\n",
        "\r\n",
        "print(\"Before modifying: {}\".format(A))\r\n",
        "A[2] = 7\r\n",
        "print(\"After modifying: {}\".format(A))"
      ],
      "execution_count": null,
      "outputs": [
        {
          "output_type": "stream",
          "text": [
            "1\n",
            "[2 3]\n",
            "Before modifying: [1 2 3 4]\n",
            "After modifying: [1 2 7 4]\n"
          ],
          "name": "stdout"
        }
      ]
    },
    {
      "cell_type": "markdown",
      "metadata": {
        "id": "K2AmfE3QJiYZ"
      },
      "source": [
        "Let's make another array."
      ]
    },
    {
      "cell_type": "code",
      "metadata": {
        "colab": {
          "base_uri": "https://localhost:8080/"
        },
        "id": "78RZLXlcJjD0",
        "outputId": "b39f2285-2c7b-4d04-f751-e919e57c7322"
      },
      "source": [
        "B = np.array([ [1, 2, 3, 4],\r\n",
        "               [5, 6, 7, 8],\r\n",
        "               [9, 10, 11, 12],\r\n",
        "               [13, 14, 15, 16] ])\r\n",
        "\r\n",
        "print(B)"
      ],
      "execution_count": null,
      "outputs": [
        {
          "output_type": "stream",
          "text": [
            "[[ 1  2  3  4]\n",
            " [ 5  6  7  8]\n",
            " [ 9 10 11 12]\n",
            " [13 14 15 16]]\n"
          ],
          "name": "stdout"
        }
      ]
    },
    {
      "cell_type": "code",
      "metadata": {
        "colab": {
          "base_uri": "https://localhost:8080/"
        },
        "id": "Qip2FKdIJvh0",
        "outputId": "e838b8c4-2367-4dd0-b37b-c124e25377dc"
      },
      "source": [
        "'''\r\n",
        "TODO: print the dimensions of B below\r\n",
        "'''\r\n",
        "print(B.shape)"
      ],
      "execution_count": null,
      "outputs": [
        {
          "output_type": "stream",
          "text": [
            "(4, 4)\n"
          ],
          "name": "stdout"
        }
      ]
    },
    {
      "cell_type": "markdown",
      "metadata": {
        "id": "aWdYROc7J1iG"
      },
      "source": [
        "B is a two-dimensional array. These are useful for representing matrices, and they behave similarly to matrices in consideration to most operations.\r\n",
        "\r\n",
        "We can also index into two-dimensional arrays. However, we have more options, as there are two dimensions of indices to index into as opposed to one. Look at some of the following examples:"
      ]
    },
    {
      "cell_type": "code",
      "metadata": {
        "colab": {
          "base_uri": "https://localhost:8080/"
        },
        "id": "DznihxjWJ2ak",
        "outputId": "0c4753f6-df3b-4026-8738-7323722f00ac"
      },
      "source": [
        "print(\"B:\\n\" + str(B))\r\n",
        "y = B[0, 2]\r\n",
        "print(\"\\nA single entry (row 0, col 2) in B: {}\".format(y))"
      ],
      "execution_count": null,
      "outputs": [
        {
          "output_type": "stream",
          "text": [
            "B:\n",
            "[[ 1  2  3  4]\n",
            " [ 5  6  7  8]\n",
            " [ 9 10 11 12]\n",
            " [13 14 15 16]]\n",
            "\n",
            "A single entry (row 0, col 2) in B: 3\n"
          ],
          "name": "stdout"
        }
      ]
    },
    {
      "cell_type": "code",
      "metadata": {
        "colab": {
          "base_uri": "https://localhost:8080/"
        },
        "id": "Quiuv6iAKImH",
        "outputId": "5815fd3a-1b26-4971-fb19-b56f30fba737"
      },
      "source": [
        "print(\"B:\\n\" + str(B))\r\n",
        "column1 = B[:, 0]\r\n",
        "print(\"\\nThe first column in B: {}\".format(column1))"
      ],
      "execution_count": null,
      "outputs": [
        {
          "output_type": "stream",
          "text": [
            "B:\n",
            "[[ 1  2  3  4]\n",
            " [ 5  6  7  8]\n",
            " [ 9 10 11 12]\n",
            " [13 14 15 16]]\n",
            "\n",
            "The first column in B: [ 1  5  9 13]\n"
          ],
          "name": "stdout"
        }
      ]
    },
    {
      "cell_type": "code",
      "metadata": {
        "colab": {
          "base_uri": "https://localhost:8080/"
        },
        "id": "wDe8JryoKXG0",
        "outputId": "4f10a1f9-546b-49e8-8f7a-5f1ec3c442ed"
      },
      "source": [
        "print(\"B:\\n\" + str(B))\r\n",
        "row1 = B[0, :]\r\n",
        "row2 = B[1]\r\n",
        "# we can opt to leave out the second index, numpy will fetch everything in the 2nd dimension\r\n",
        "print(\"\\nThe first row in B: {}\".format(row1))\r\n",
        "print(\"The second row in B: {}\".format(row2))"
      ],
      "execution_count": null,
      "outputs": [
        {
          "output_type": "stream",
          "text": [
            "B:\n",
            "[[ 1  2  3  4]\n",
            " [ 5  6  7  8]\n",
            " [ 9 10 11 12]\n",
            " [13 14 15 16]]\n",
            "\n",
            "The first row in B: [1 2 3 4]\n",
            "The second row in B: [5 6 7 8]\n"
          ],
          "name": "stdout"
        }
      ]
    },
    {
      "cell_type": "code",
      "metadata": {
        "colab": {
          "base_uri": "https://localhost:8080/"
        },
        "id": "4qqlubNGLFWd",
        "outputId": "dcc834af-03c3-4dcc-e61d-9a87df08a255"
      },
      "source": [
        "crop = B[0:2, 1:3]\r\n",
        "print(\"A crop from B:\\n{}\".format(crop))"
      ],
      "execution_count": null,
      "outputs": [
        {
          "output_type": "stream",
          "text": [
            "A crop from B:\n",
            "[[2 3]\n",
            " [6 7]]\n"
          ],
          "name": "stdout"
        }
      ]
    },
    {
      "cell_type": "code",
      "metadata": {
        "colab": {
          "base_uri": "https://localhost:8080/"
        },
        "id": "UccYO5rfLXmB",
        "outputId": "47a3d4b2-a6d8-4a20-a6e6-e8b755409dee"
      },
      "source": [
        "# TODO: print one slice containing the last three entries of the third column of B\r\n",
        "\r\n",
        "# indexing crops or submatrices will yield a two-dimensional array\r\n",
        "crop = B[1:, 2:3]\r\n",
        "print(crop)\r\n",
        "print()\r\n",
        "# indexing rows or columns will yield one-dimensional arrays\r\n",
        "print(B[1:, 2])\r\n",
        "# indexing individual entries will yield scalars"
      ],
      "execution_count": null,
      "outputs": [
        {
          "output_type": "stream",
          "text": [
            "[[ 7]\n",
            " [11]\n",
            " [15]]\n",
            "\n",
            "[ 7 11 15]\n"
          ],
          "name": "stdout"
        }
      ]
    },
    {
      "cell_type": "markdown",
      "metadata": {
        "id": "YYc6ubQVL9SF"
      },
      "source": [
        "We see that scalar entries make up one-dimensional arrays, which can then be used to make up two-dimensional arrays. It is also true that two-dimensional arrays can be used to make up three-dimensional arrays. \r\n",
        "\r\n",
        "In general, n-dimensional arrays can be thought of as a collection of (n - 1)-dimensional arrays.\r\n",
        "\r\n",
        "We can represent matrix multiplication and matrix-vector multiplication with np.dot()."
      ]
    },
    {
      "cell_type": "code",
      "metadata": {
        "colab": {
          "base_uri": "https://localhost:8080/"
        },
        "id": "nEv0u5feMmvU",
        "outputId": "fb25db49-51dc-4a9f-c5c6-06614dd6d481"
      },
      "source": [
        "right_product = np.dot(A, B)\r\n",
        "print(right_product)\r\n",
        "print()\r\n",
        "\r\n",
        "left_product = np.dot(B, A)\r\n",
        "print(left_product)"
      ],
      "execution_count": null,
      "outputs": [
        {
          "output_type": "stream",
          "text": [
            "[126 140 154 168]\n",
            "\n",
            "[ 42  98 154 210]\n"
          ],
          "name": "stdout"
        }
      ]
    },
    {
      "cell_type": "markdown",
      "metadata": {
        "id": "4bIeogwMMsDe"
      },
      "source": [
        "Similar to matrix multiplication, the order in which you enter arguments into np.dot() is very important."
      ]
    },
    {
      "cell_type": "code",
      "metadata": {
        "colab": {
          "base_uri": "https://localhost:8080/"
        },
        "id": "wmzEZQyrMuSb",
        "outputId": "d6130f98-15d7-4a0f-920b-28b6c2cad06e"
      },
      "source": [
        "'''\r\n",
        "TODO: Print out the matrix product between \r\n",
        "the upper-leftmost 3 x 3 crop of B and the lower-rightmost 3 x 3 crop of B. \r\n",
        "Then, replace the upper-rightmost 3 x 3 section of B with that product, and print B.\r\n",
        "'''\r\n",
        "# Method 1\r\n",
        "print(\"Method 1:\\n\")\r\n",
        "B = np.array([ [1, 2, 3, 4],\r\n",
        "               [5, 6, 7, 8],\r\n",
        "               [9, 10, 11, 12],\r\n",
        "               [13, 14, 15, 16] ])\r\n",
        "product = np.dot(B[0:3, 0:3], B[1:, 1:])\r\n",
        "print(product)\r\n",
        "print()\r\n",
        "\r\n",
        "B[0:3, 1:] = product\r\n",
        "print(B)\r\n",
        "print()\r\n",
        "\r\n",
        "#Method 2\r\n",
        "print(\"Method 2:\\n\")\r\n",
        "B = np.array([ [1, 2, 3, 4],\r\n",
        "               [5, 6, 7, 8],\r\n",
        "               [9, 10, 11, 12],\r\n",
        "               [13, 14, 15, 16] ])\r\n",
        "product = np.dot(B[0:3, 0:3], B[1:4, 1:4])\r\n",
        "print(product)\r\n",
        "print()\r\n",
        "\r\n",
        "B[0:3, 1:4] = product\r\n",
        "print(B)"
      ],
      "execution_count": null,
      "outputs": [
        {
          "output_type": "stream",
          "text": [
            "Method 1:\n",
            "\n",
            "[[ 68  74  80]\n",
            " [188 206 224]\n",
            " [308 338 368]]\n",
            "\n",
            "[[  1  68  74  80]\n",
            " [  5 188 206 224]\n",
            " [  9 308 338 368]\n",
            " [ 13  14  15  16]]\n",
            "\n",
            "Method 2:\n",
            "\n",
            "[[ 68  74  80]\n",
            " [188 206 224]\n",
            " [308 338 368]]\n",
            "\n",
            "[[  1  68  74  80]\n",
            " [  5 188 206 224]\n",
            " [  9 308 338 368]\n",
            " [ 13  14  15  16]]\n"
          ],
          "name": "stdout"
        }
      ]
    },
    {
      "cell_type": "markdown",
      "metadata": {
        "id": "EKs1KLkORNeY"
      },
      "source": [
        "There are many ways to instantiate ndarrays in numpy. Here are two common ways:"
      ]
    },
    {
      "cell_type": "code",
      "metadata": {
        "colab": {
          "base_uri": "https://localhost:8080/"
        },
        "id": "2uCcUce5N-vQ",
        "outputId": "6347bc28-3593-4f45-9d0b-6057c8be40f6"
      },
      "source": [
        "zero_array = np.zeros((2, 2))\r\n",
        "print(zero_array)\r\n",
        "print()\r\n",
        "\r\n",
        "random_array = np.random.rand(4, 3)  # fills array with values between 0 and 1\r\n",
        "print(random_array)"
      ],
      "execution_count": null,
      "outputs": [
        {
          "output_type": "stream",
          "text": [
            "[[0. 0.]\n",
            " [0. 0.]]\n",
            "\n",
            "[[0.26903305 0.50120951 0.20380465]\n",
            " [0.56851198 0.2260302  0.38313511]\n",
            " [0.10283139 0.74084305 0.33409616]\n",
            " [0.01124245 0.739842   0.22890275]]\n"
          ],
          "name": "stdout"
        }
      ]
    },
    {
      "cell_type": "markdown",
      "metadata": {
        "id": "kgp5I2nZRbJa"
      },
      "source": [
        "Both of these ways of instantiating arrays involve entering the desired dimensions into their respective functions. However, np.zeros() requires the dimensions to be contained inside parentheses, while np.random.rand() wants the dimensions to be entered as separate arguments. These small details are always difficult to remember, so you may often have to refer to the [numpy documentation](https://numpy.org/doc/stable/reference/index.html)."
      ]
    },
    {
      "cell_type": "code",
      "metadata": {
        "colab": {
          "base_uri": "https://localhost:8080/"
        },
        "id": "DVSSECV1Rhr9",
        "outputId": "1c9d6ecb-b3ed-441a-e9ed-986b6d84a21f"
      },
      "source": [
        "'''\r\n",
        "TODO: Constuct a random 5 x 4 array. Matrix multiply (use np.dot()) this with B and then print the result.\r\n",
        "      Remember, order matters!\r\n",
        "'''\r\n",
        "C = np.random.rand(5, 4)\r\n",
        "new_product = np.dot(C, B)\r\n",
        "print(new_product)"
      ],
      "execution_count": null,
      "outputs": [
        {
          "output_type": "stream",
          "text": [
            "[[  8.59493971 192.26861233 210.66054608 229.05247983]\n",
            " [ 10.77365625 190.1491451  208.24786846 226.34659183]\n",
            " [ 17.40369738 252.98372168 276.82761347 300.67150526]\n",
            " [  9.22707811 216.11804616 236.41251097 256.70697577]\n",
            " [ 13.66340244 111.56985042 121.70524236 131.8406343 ]]\n"
          ],
          "name": "stdout"
        }
      ]
    }
  ]
}